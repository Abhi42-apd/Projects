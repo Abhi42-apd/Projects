{
  "nbformat": 4,
  "nbformat_minor": 0,
  "metadata": {
    "colab": {
      "name": "Untitled0.ipynb",
      "provenance": [],
      "collapsed_sections": []
    },
    "kernelspec": {
      "name": "python3",
      "display_name": "Python 3"
    }
  },
  "cells": [
    {
      "cell_type": "code",
      "metadata": {
        "id": "rSHbsWu3kLU2"
      },
      "source": [
        "# Code to read csv file into colaboratory:\r\n",
        "!pip install -U -q PyDrive\r\n",
        "from pydrive.auth import GoogleAuth\r\n",
        "from pydrive.drive import GoogleDrive\r\n",
        "from google.colab import auth\r\n",
        "from oauth2client.client import GoogleCredentials\r\n"
      ],
      "execution_count": 143,
      "outputs": []
    },
    {
      "cell_type": "code",
      "metadata": {
        "id": "7VtiTC8gkk5s"
      },
      "source": [
        "auth.authenticate_user()\r\n",
        "gauth = GoogleAuth()\r\n",
        "gauth.credentials = GoogleCredentials.get_application_default()\r\n",
        "drive = GoogleDrive(gauth)\r\n"
      ],
      "execution_count": 144,
      "outputs": []
    },
    {
      "cell_type": "code",
      "metadata": {
        "id": "ftoVgn8NlH4V"
      },
      "source": [
        "#2.1 Get the file\r\n",
        "downloaded = drive.CreateFile({'id':'1GOpbxiRSQbg9ESCt5ufiqkBRTa1H88h4'}) # replace the id with id of file you want to access\r\n",
        "downloaded.GetContentFile('1807242.csv') "
      ],
      "execution_count": 145,
      "outputs": []
    },
    {
      "cell_type": "markdown",
      "metadata": {
        "id": "2CGjoyRnm5UR"
      },
      "source": [
        "Importing all the libraries \r\n"
      ]
    },
    {
      "cell_type": "code",
      "metadata": {
        "id": "tCwnkF0wmKEC"
      },
      "source": [
        "\r\n",
        "\r\n",
        "import numpy as np\r\n",
        "import pandas as pd\r\n",
        "import datetime\r\n",
        "import statistics\r\n",
        "import seaborn as sns\r\n",
        "from sklearn.model_selection import train_test_split\r\n",
        "\r\n",
        "\r\n",
        "from sklearn.linear_model import LinearRegression\r\n",
        "from sklearn.svm import SVR\r\n",
        "from sklearn.tree import DecisionTreeRegressor\r\n",
        "from sklearn.ensemble import RandomForestRegressor\r\n",
        "import xgboost as xgb\r\n",
        "from sklearn.metrics import mean_squared_error\r\n",
        "from sklearn.metrics import r2_score"
      ],
      "execution_count": 146,
      "outputs": []
    },
    {
      "cell_type": "code",
      "metadata": {
        "colab": {
          "base_uri": "https://localhost:8080/",
          "height": 270
        },
        "id": "JSod8S2anAiC",
        "outputId": "369f9ede-3f77-4427-b670-2fc46be986a5"
      },
      "source": [
        "#Importing the dataset\r\n",
        "data=pd.read_csv('1807242.csv')\r\n",
        "data.head(4)"
      ],
      "execution_count": 147,
      "outputs": [
        {
          "output_type": "execute_result",
          "data": {
            "text/html": [
              "<div>\n",
              "<style scoped>\n",
              "    .dataframe tbody tr th:only-of-type {\n",
              "        vertical-align: middle;\n",
              "    }\n",
              "\n",
              "    .dataframe tbody tr th {\n",
              "        vertical-align: top;\n",
              "    }\n",
              "\n",
              "    .dataframe thead th {\n",
              "        text-align: right;\n",
              "    }\n",
              "</style>\n",
              "<table border=\"1\" class=\"dataframe\">\n",
              "  <thead>\n",
              "    <tr style=\"text-align: right;\">\n",
              "      <th></th>\n",
              "      <th>business_code</th>\n",
              "      <th>cust_number</th>\n",
              "      <th>name_customer</th>\n",
              "      <th>clear_date</th>\n",
              "      <th>buisness_year</th>\n",
              "      <th>doc_id</th>\n",
              "      <th>posting_date</th>\n",
              "      <th>document_create_date</th>\n",
              "      <th>document_create_date1</th>\n",
              "      <th>due_in_date</th>\n",
              "      <th>invoice_currency</th>\n",
              "      <th>document type</th>\n",
              "      <th>posting_id</th>\n",
              "      <th>area_business</th>\n",
              "      <th>total_open_amount</th>\n",
              "      <th>baseline_create_date</th>\n",
              "      <th>cust_payment_terms</th>\n",
              "      <th>invoice_id</th>\n",
              "      <th>isOpen</th>\n",
              "    </tr>\n",
              "  </thead>\n",
              "  <tbody>\n",
              "    <tr>\n",
              "      <th>0</th>\n",
              "      <td>U001</td>\n",
              "      <td>200769623</td>\n",
              "      <td>WAL-MAR systems</td>\n",
              "      <td>04-06-2019 00:00</td>\n",
              "      <td>2019</td>\n",
              "      <td>1929359463</td>\n",
              "      <td>22-05-2019</td>\n",
              "      <td>20190522</td>\n",
              "      <td>20190522</td>\n",
              "      <td>20190606</td>\n",
              "      <td>USD</td>\n",
              "      <td>RV</td>\n",
              "      <td>1</td>\n",
              "      <td>NaN</td>\n",
              "      <td>14916.57</td>\n",
              "      <td>20190522</td>\n",
              "      <td>NAH4</td>\n",
              "      <td>1.929359e+09</td>\n",
              "      <td>0</td>\n",
              "    </tr>\n",
              "    <tr>\n",
              "      <th>1</th>\n",
              "      <td>U001</td>\n",
              "      <td>200769623</td>\n",
              "      <td>WAL-MAR corporation</td>\n",
              "      <td>13-08-2019 00:00</td>\n",
              "      <td>2019</td>\n",
              "      <td>1929690827</td>\n",
              "      <td>02-08-2019</td>\n",
              "      <td>20190802</td>\n",
              "      <td>20190802</td>\n",
              "      <td>20190817</td>\n",
              "      <td>USD</td>\n",
              "      <td>RV</td>\n",
              "      <td>1</td>\n",
              "      <td>NaN</td>\n",
              "      <td>17878.43</td>\n",
              "      <td>20190802</td>\n",
              "      <td>NAH4</td>\n",
              "      <td>1.929691e+09</td>\n",
              "      <td>0</td>\n",
              "    </tr>\n",
              "    <tr>\n",
              "      <th>2</th>\n",
              "      <td>U001</td>\n",
              "      <td>200353024</td>\n",
              "      <td>DECA foundation</td>\n",
              "      <td>12-04-2019 00:00</td>\n",
              "      <td>2019</td>\n",
              "      <td>1929135118</td>\n",
              "      <td>12-04-2019</td>\n",
              "      <td>20190412</td>\n",
              "      <td>20190412</td>\n",
              "      <td>20190408</td>\n",
              "      <td>USD</td>\n",
              "      <td>RV</td>\n",
              "      <td>1</td>\n",
              "      <td>NaN</td>\n",
              "      <td>5709.12</td>\n",
              "      <td>20190316</td>\n",
              "      <td>NAM4</td>\n",
              "      <td>1.929135e+09</td>\n",
              "      <td>0</td>\n",
              "    </tr>\n",
              "    <tr>\n",
              "      <th>3</th>\n",
              "      <td>U001</td>\n",
              "      <td>200744019</td>\n",
              "      <td>TARG trust</td>\n",
              "      <td>09-05-2019 00:00</td>\n",
              "      <td>2019</td>\n",
              "      <td>1929194057</td>\n",
              "      <td>24-04-2019</td>\n",
              "      <td>20190423</td>\n",
              "      <td>20190424</td>\n",
              "      <td>20190509</td>\n",
              "      <td>USD</td>\n",
              "      <td>RV</td>\n",
              "      <td>1</td>\n",
              "      <td>NaN</td>\n",
              "      <td>3590.92</td>\n",
              "      <td>20190424</td>\n",
              "      <td>NAA8</td>\n",
              "      <td>1.929194e+09</td>\n",
              "      <td>0</td>\n",
              "    </tr>\n",
              "  </tbody>\n",
              "</table>\n",
              "</div>"
            ],
            "text/plain": [
              "  business_code cust_number  ...    invoice_id isOpen\n",
              "0          U001   200769623  ...  1.929359e+09      0\n",
              "1          U001   200769623  ...  1.929691e+09      0\n",
              "2          U001   200353024  ...  1.929135e+09      0\n",
              "3          U001   200744019  ...  1.929194e+09      0\n",
              "\n",
              "[4 rows x 19 columns]"
            ]
          },
          "metadata": {
            "tags": []
          },
          "execution_count": 147
        }
      ]
    },
    {
      "cell_type": "code",
      "metadata": {
        "colab": {
          "base_uri": "https://localhost:8080/",
          "height": 316
        },
        "id": "8SxPt1IxvRQ0",
        "outputId": "4024671f-ac73-497b-d110-63fa7d72f49a"
      },
      "source": [
        "#dropping column with all null\r\n",
        "data.dropna(axis=1,how=\"all\", inplace=True)\r\n",
        "\r\n",
        "data.head(5)"
      ],
      "execution_count": 148,
      "outputs": [
        {
          "output_type": "execute_result",
          "data": {
            "text/html": [
              "<div>\n",
              "<style scoped>\n",
              "    .dataframe tbody tr th:only-of-type {\n",
              "        vertical-align: middle;\n",
              "    }\n",
              "\n",
              "    .dataframe tbody tr th {\n",
              "        vertical-align: top;\n",
              "    }\n",
              "\n",
              "    .dataframe thead th {\n",
              "        text-align: right;\n",
              "    }\n",
              "</style>\n",
              "<table border=\"1\" class=\"dataframe\">\n",
              "  <thead>\n",
              "    <tr style=\"text-align: right;\">\n",
              "      <th></th>\n",
              "      <th>business_code</th>\n",
              "      <th>cust_number</th>\n",
              "      <th>name_customer</th>\n",
              "      <th>clear_date</th>\n",
              "      <th>buisness_year</th>\n",
              "      <th>doc_id</th>\n",
              "      <th>posting_date</th>\n",
              "      <th>document_create_date</th>\n",
              "      <th>document_create_date1</th>\n",
              "      <th>due_in_date</th>\n",
              "      <th>invoice_currency</th>\n",
              "      <th>document type</th>\n",
              "      <th>posting_id</th>\n",
              "      <th>total_open_amount</th>\n",
              "      <th>baseline_create_date</th>\n",
              "      <th>cust_payment_terms</th>\n",
              "      <th>invoice_id</th>\n",
              "      <th>isOpen</th>\n",
              "    </tr>\n",
              "  </thead>\n",
              "  <tbody>\n",
              "    <tr>\n",
              "      <th>0</th>\n",
              "      <td>U001</td>\n",
              "      <td>200769623</td>\n",
              "      <td>WAL-MAR systems</td>\n",
              "      <td>04-06-2019 00:00</td>\n",
              "      <td>2019</td>\n",
              "      <td>1929359463</td>\n",
              "      <td>22-05-2019</td>\n",
              "      <td>20190522</td>\n",
              "      <td>20190522</td>\n",
              "      <td>20190606</td>\n",
              "      <td>USD</td>\n",
              "      <td>RV</td>\n",
              "      <td>1</td>\n",
              "      <td>14916.57</td>\n",
              "      <td>20190522</td>\n",
              "      <td>NAH4</td>\n",
              "      <td>1.929359e+09</td>\n",
              "      <td>0</td>\n",
              "    </tr>\n",
              "    <tr>\n",
              "      <th>1</th>\n",
              "      <td>U001</td>\n",
              "      <td>200769623</td>\n",
              "      <td>WAL-MAR corporation</td>\n",
              "      <td>13-08-2019 00:00</td>\n",
              "      <td>2019</td>\n",
              "      <td>1929690827</td>\n",
              "      <td>02-08-2019</td>\n",
              "      <td>20190802</td>\n",
              "      <td>20190802</td>\n",
              "      <td>20190817</td>\n",
              "      <td>USD</td>\n",
              "      <td>RV</td>\n",
              "      <td>1</td>\n",
              "      <td>17878.43</td>\n",
              "      <td>20190802</td>\n",
              "      <td>NAH4</td>\n",
              "      <td>1.929691e+09</td>\n",
              "      <td>0</td>\n",
              "    </tr>\n",
              "    <tr>\n",
              "      <th>2</th>\n",
              "      <td>U001</td>\n",
              "      <td>200353024</td>\n",
              "      <td>DECA foundation</td>\n",
              "      <td>12-04-2019 00:00</td>\n",
              "      <td>2019</td>\n",
              "      <td>1929135118</td>\n",
              "      <td>12-04-2019</td>\n",
              "      <td>20190412</td>\n",
              "      <td>20190412</td>\n",
              "      <td>20190408</td>\n",
              "      <td>USD</td>\n",
              "      <td>RV</td>\n",
              "      <td>1</td>\n",
              "      <td>5709.12</td>\n",
              "      <td>20190316</td>\n",
              "      <td>NAM4</td>\n",
              "      <td>1.929135e+09</td>\n",
              "      <td>0</td>\n",
              "    </tr>\n",
              "    <tr>\n",
              "      <th>3</th>\n",
              "      <td>U001</td>\n",
              "      <td>200744019</td>\n",
              "      <td>TARG trust</td>\n",
              "      <td>09-05-2019 00:00</td>\n",
              "      <td>2019</td>\n",
              "      <td>1929194057</td>\n",
              "      <td>24-04-2019</td>\n",
              "      <td>20190423</td>\n",
              "      <td>20190424</td>\n",
              "      <td>20190509</td>\n",
              "      <td>USD</td>\n",
              "      <td>RV</td>\n",
              "      <td>1</td>\n",
              "      <td>3590.92</td>\n",
              "      <td>20190424</td>\n",
              "      <td>NAA8</td>\n",
              "      <td>1.929194e+09</td>\n",
              "      <td>0</td>\n",
              "    </tr>\n",
              "    <tr>\n",
              "      <th>4</th>\n",
              "      <td>U001</td>\n",
              "      <td>200739941</td>\n",
              "      <td>FOX</td>\n",
              "      <td>15-01-2020 00:00</td>\n",
              "      <td>2020</td>\n",
              "      <td>1930329674</td>\n",
              "      <td>30-12-2019</td>\n",
              "      <td>20191228</td>\n",
              "      <td>20191230</td>\n",
              "      <td>20200114</td>\n",
              "      <td>USD</td>\n",
              "      <td>RV</td>\n",
              "      <td>1</td>\n",
              "      <td>21390.29</td>\n",
              "      <td>20191230</td>\n",
              "      <td>NAA8</td>\n",
              "      <td>1.930330e+09</td>\n",
              "      <td>0</td>\n",
              "    </tr>\n",
              "  </tbody>\n",
              "</table>\n",
              "</div>"
            ],
            "text/plain": [
              "  business_code cust_number  ...    invoice_id isOpen\n",
              "0          U001   200769623  ...  1.929359e+09      0\n",
              "1          U001   200769623  ...  1.929691e+09      0\n",
              "2          U001   200353024  ...  1.929135e+09      0\n",
              "3          U001   200744019  ...  1.929194e+09      0\n",
              "4          U001   200739941  ...  1.930330e+09      0\n",
              "\n",
              "[5 rows x 18 columns]"
            ]
          },
          "metadata": {
            "tags": []
          },
          "execution_count": 148
        }
      ]
    },
    {
      "cell_type": "code",
      "metadata": {
        "colab": {
          "base_uri": "https://localhost:8080/"
        },
        "id": "KN2d6DIBJmEt",
        "outputId": "cc0664d5-85fe-4509-8169-4472f827a44e"
      },
      "source": [
        "#to find the amount of null data in each column\r\n",
        "data.isna().sum()"
      ],
      "execution_count": 149,
      "outputs": [
        {
          "output_type": "execute_result",
          "data": {
            "text/plain": [
              "business_code               0\n",
              "cust_number                 0\n",
              "name_customer               0\n",
              "clear_date               3762\n",
              "buisness_year               0\n",
              "doc_id                      0\n",
              "posting_date                0\n",
              "document_create_date        0\n",
              "document_create_date1       0\n",
              "due_in_date                 0\n",
              "invoice_currency            0\n",
              "document type               0\n",
              "posting_id                  0\n",
              "total_open_amount           0\n",
              "baseline_create_date        0\n",
              "cust_payment_terms          0\n",
              "invoice_id                  5\n",
              "isOpen                      0\n",
              "dtype: int64"
            ]
          },
          "metadata": {
            "tags": []
          },
          "execution_count": 149
        }
      ]
    },
    {
      "cell_type": "code",
      "metadata": {
        "colab": {
          "base_uri": "https://localhost:8080/",
          "height": 556
        },
        "id": "_uFiSxbZKUR-",
        "outputId": "2e4a6a2e-5342-4957-888f-d09fd5e5b176"
      },
      "source": [
        "#dropping the corelated columns\r\n",
        "corr_matrix= data.corr().abs()\r\n",
        "upper= corr_matrix.where(np.triu(np.ones(corr_matrix.shape), k=1).astype(np.bool))\r\n",
        "to_drop= [column for column in upper.columns if any(upper[column]>0.95)]\r\n",
        "data.drop(data[to_drop], axis=1)"
      ],
      "execution_count": 150,
      "outputs": [
        {
          "output_type": "execute_result",
          "data": {
            "text/html": [
              "<div>\n",
              "<style scoped>\n",
              "    .dataframe tbody tr th:only-of-type {\n",
              "        vertical-align: middle;\n",
              "    }\n",
              "\n",
              "    .dataframe tbody tr th {\n",
              "        vertical-align: top;\n",
              "    }\n",
              "\n",
              "    .dataframe thead th {\n",
              "        text-align: right;\n",
              "    }\n",
              "</style>\n",
              "<table border=\"1\" class=\"dataframe\">\n",
              "  <thead>\n",
              "    <tr style=\"text-align: right;\">\n",
              "      <th></th>\n",
              "      <th>business_code</th>\n",
              "      <th>cust_number</th>\n",
              "      <th>name_customer</th>\n",
              "      <th>clear_date</th>\n",
              "      <th>buisness_year</th>\n",
              "      <th>doc_id</th>\n",
              "      <th>posting_date</th>\n",
              "      <th>invoice_currency</th>\n",
              "      <th>document type</th>\n",
              "      <th>posting_id</th>\n",
              "      <th>total_open_amount</th>\n",
              "      <th>cust_payment_terms</th>\n",
              "      <th>isOpen</th>\n",
              "    </tr>\n",
              "  </thead>\n",
              "  <tbody>\n",
              "    <tr>\n",
              "      <th>0</th>\n",
              "      <td>U001</td>\n",
              "      <td>200769623</td>\n",
              "      <td>WAL-MAR systems</td>\n",
              "      <td>04-06-2019 00:00</td>\n",
              "      <td>2019</td>\n",
              "      <td>1929359463</td>\n",
              "      <td>22-05-2019</td>\n",
              "      <td>USD</td>\n",
              "      <td>RV</td>\n",
              "      <td>1</td>\n",
              "      <td>14916.57</td>\n",
              "      <td>NAH4</td>\n",
              "      <td>0</td>\n",
              "    </tr>\n",
              "    <tr>\n",
              "      <th>1</th>\n",
              "      <td>U001</td>\n",
              "      <td>200769623</td>\n",
              "      <td>WAL-MAR corporation</td>\n",
              "      <td>13-08-2019 00:00</td>\n",
              "      <td>2019</td>\n",
              "      <td>1929690827</td>\n",
              "      <td>02-08-2019</td>\n",
              "      <td>USD</td>\n",
              "      <td>RV</td>\n",
              "      <td>1</td>\n",
              "      <td>17878.43</td>\n",
              "      <td>NAH4</td>\n",
              "      <td>0</td>\n",
              "    </tr>\n",
              "    <tr>\n",
              "      <th>2</th>\n",
              "      <td>U001</td>\n",
              "      <td>200353024</td>\n",
              "      <td>DECA foundation</td>\n",
              "      <td>12-04-2019 00:00</td>\n",
              "      <td>2019</td>\n",
              "      <td>1929135118</td>\n",
              "      <td>12-04-2019</td>\n",
              "      <td>USD</td>\n",
              "      <td>RV</td>\n",
              "      <td>1</td>\n",
              "      <td>5709.12</td>\n",
              "      <td>NAM4</td>\n",
              "      <td>0</td>\n",
              "    </tr>\n",
              "    <tr>\n",
              "      <th>3</th>\n",
              "      <td>U001</td>\n",
              "      <td>200744019</td>\n",
              "      <td>TARG trust</td>\n",
              "      <td>09-05-2019 00:00</td>\n",
              "      <td>2019</td>\n",
              "      <td>1929194057</td>\n",
              "      <td>24-04-2019</td>\n",
              "      <td>USD</td>\n",
              "      <td>RV</td>\n",
              "      <td>1</td>\n",
              "      <td>3590.92</td>\n",
              "      <td>NAA8</td>\n",
              "      <td>0</td>\n",
              "    </tr>\n",
              "    <tr>\n",
              "      <th>4</th>\n",
              "      <td>U001</td>\n",
              "      <td>200739941</td>\n",
              "      <td>FOX</td>\n",
              "      <td>15-01-2020 00:00</td>\n",
              "      <td>2020</td>\n",
              "      <td>1930329674</td>\n",
              "      <td>30-12-2019</td>\n",
              "      <td>USD</td>\n",
              "      <td>RV</td>\n",
              "      <td>1</td>\n",
              "      <td>21390.29</td>\n",
              "      <td>NAA8</td>\n",
              "      <td>0</td>\n",
              "    </tr>\n",
              "    <tr>\n",
              "      <th>...</th>\n",
              "      <td>...</td>\n",
              "      <td>...</td>\n",
              "      <td>...</td>\n",
              "      <td>...</td>\n",
              "      <td>...</td>\n",
              "      <td>...</td>\n",
              "      <td>...</td>\n",
              "      <td>...</td>\n",
              "      <td>...</td>\n",
              "      <td>...</td>\n",
              "      <td>...</td>\n",
              "      <td>...</td>\n",
              "      <td>...</td>\n",
              "    </tr>\n",
              "    <tr>\n",
              "      <th>49995</th>\n",
              "      <td>U001</td>\n",
              "      <td>200769623</td>\n",
              "      <td>WAL-MAR systems</td>\n",
              "      <td>NaN</td>\n",
              "      <td>2020</td>\n",
              "      <td>1930796703</td>\n",
              "      <td>17-04-2020</td>\n",
              "      <td>USD</td>\n",
              "      <td>RV</td>\n",
              "      <td>1</td>\n",
              "      <td>8645.54</td>\n",
              "      <td>NAH4</td>\n",
              "      <td>1</td>\n",
              "    </tr>\n",
              "    <tr>\n",
              "      <th>49996</th>\n",
              "      <td>CA02</td>\n",
              "      <td>140106408</td>\n",
              "      <td>WAL-M corporation</td>\n",
              "      <td>NaN</td>\n",
              "      <td>2020</td>\n",
              "      <td>2960632401</td>\n",
              "      <td>30-04-2020</td>\n",
              "      <td>CAD</td>\n",
              "      <td>RV</td>\n",
              "      <td>1</td>\n",
              "      <td>12996.08</td>\n",
              "      <td>CA10</td>\n",
              "      <td>1</td>\n",
              "    </tr>\n",
              "    <tr>\n",
              "      <th>49997</th>\n",
              "      <td>U001</td>\n",
              "      <td>200803720</td>\n",
              "      <td>DEC llc</td>\n",
              "      <td>NaN</td>\n",
              "      <td>2020</td>\n",
              "      <td>1930691770</td>\n",
              "      <td>24-03-2020</td>\n",
              "      <td>USD</td>\n",
              "      <td>RV</td>\n",
              "      <td>1</td>\n",
              "      <td>6037.62</td>\n",
              "      <td>NAM2</td>\n",
              "      <td>1</td>\n",
              "    </tr>\n",
              "    <tr>\n",
              "      <th>49998</th>\n",
              "      <td>U001</td>\n",
              "      <td>100031704</td>\n",
              "      <td>DELHAIZE trust</td>\n",
              "      <td>NaN</td>\n",
              "      <td>2020</td>\n",
              "      <td>1930646387</td>\n",
              "      <td>16-03-2020</td>\n",
              "      <td>USD</td>\n",
              "      <td>RV</td>\n",
              "      <td>1</td>\n",
              "      <td>87552.87</td>\n",
              "      <td>NAA8</td>\n",
              "      <td>1</td>\n",
              "    </tr>\n",
              "    <tr>\n",
              "      <th>49999</th>\n",
              "      <td>U001</td>\n",
              "      <td>200148860</td>\n",
              "      <td>DOLLA co</td>\n",
              "      <td>NaN</td>\n",
              "      <td>2020</td>\n",
              "      <td>1930643059</td>\n",
              "      <td>11-03-2020</td>\n",
              "      <td>USD</td>\n",
              "      <td>RV</td>\n",
              "      <td>1</td>\n",
              "      <td>2902.15</td>\n",
              "      <td>NAGD</td>\n",
              "      <td>1</td>\n",
              "    </tr>\n",
              "  </tbody>\n",
              "</table>\n",
              "<p>50000 rows × 13 columns</p>\n",
              "</div>"
            ],
            "text/plain": [
              "      business_code cust_number  ... cust_payment_terms isOpen\n",
              "0              U001   200769623  ...               NAH4      0\n",
              "1              U001   200769623  ...               NAH4      0\n",
              "2              U001   200353024  ...               NAM4      0\n",
              "3              U001   200744019  ...               NAA8      0\n",
              "4              U001   200739941  ...               NAA8      0\n",
              "...             ...         ...  ...                ...    ...\n",
              "49995          U001   200769623  ...               NAH4      1\n",
              "49996          CA02   140106408  ...               CA10      1\n",
              "49997          U001   200803720  ...               NAM2      1\n",
              "49998          U001   100031704  ...               NAA8      1\n",
              "49999          U001   200148860  ...               NAGD      1\n",
              "\n",
              "[50000 rows x 13 columns]"
            ]
          },
          "metadata": {
            "tags": []
          },
          "execution_count": 150
        }
      ]
    },
    {
      "cell_type": "code",
      "metadata": {
        "colab": {
          "base_uri": "https://localhost:8080/"
        },
        "id": "D0QFBnO6K461",
        "outputId": "d78678a3-10c9-4189-903b-7b9474fec0f6"
      },
      "source": [
        "data.nunique()"
      ],
      "execution_count": 151,
      "outputs": [
        {
          "output_type": "execute_result",
          "data": {
            "text/plain": [
              "business_code                6\n",
              "cust_number               1110\n",
              "name_customer             4256\n",
              "clear_date                 404\n",
              "buisness_year                2\n",
              "doc_id                   50000\n",
              "posting_date               502\n",
              "document_create_date       505\n",
              "document_create_date1      504\n",
              "due_in_date                541\n",
              "invoice_currency             2\n",
              "document type                2\n",
              "posting_id                   1\n",
              "total_open_amount        45141\n",
              "baseline_create_date       506\n",
              "cust_payment_terms          75\n",
              "invoice_id               49995\n",
              "isOpen                       2\n",
              "dtype: int64"
            ]
          },
          "metadata": {
            "tags": []
          },
          "execution_count": 151
        }
      ]
    },
    {
      "cell_type": "code",
      "metadata": {
        "colab": {
          "base_uri": "https://localhost:8080/"
        },
        "id": "Ju2c0CIELKwW",
        "outputId": "bb7a63f2-1960-472a-d0d8-a06a6c6a1b81"
      },
      "source": [
        "#dropping quasi constant column\r\n",
        "data=data.drop(['posting_id'], axis = 1)\r\n",
        "data=data.drop(['invoice_currency'], axis = 1)\r\n",
        "data.shape"
      ],
      "execution_count": 152,
      "outputs": [
        {
          "output_type": "execute_result",
          "data": {
            "text/plain": [
              "(50000, 16)"
            ]
          },
          "metadata": {
            "tags": []
          },
          "execution_count": 152
        }
      ]
    },
    {
      "cell_type": "code",
      "metadata": {
        "colab": {
          "base_uri": "https://localhost:8080/"
        },
        "id": "WYaVGqV5L8va",
        "outputId": "80c90655-91b5-49b2-b2b1-4f48871cdc8b"
      },
      "source": [
        "#for each business_code eixts a unique cus_number\r\n",
        "data=data.drop(['business_code'], axis = 1)\r\n",
        "data.shape"
      ],
      "execution_count": 153,
      "outputs": [
        {
          "output_type": "execute_result",
          "data": {
            "text/plain": [
              "(50000, 15)"
            ]
          },
          "metadata": {
            "tags": []
          },
          "execution_count": 153
        }
      ]
    },
    {
      "cell_type": "code",
      "metadata": {
        "colab": {
          "base_uri": "https://localhost:8080/"
        },
        "id": "pPE0sRbQMNLX",
        "outputId": "f0e5fc23-ece5-4b07-852a-60e28f5422de"
      },
      "source": [
        "data.dtypes"
      ],
      "execution_count": 154,
      "outputs": [
        {
          "output_type": "execute_result",
          "data": {
            "text/plain": [
              "cust_number               object\n",
              "name_customer             object\n",
              "clear_date                object\n",
              "buisness_year              int64\n",
              "doc_id                     int64\n",
              "posting_date              object\n",
              "document_create_date       int64\n",
              "document_create_date1      int64\n",
              "due_in_date                int64\n",
              "document type             object\n",
              "total_open_amount        float64\n",
              "baseline_create_date       int64\n",
              "cust_payment_terms        object\n",
              "invoice_id               float64\n",
              "isOpen                     int64\n",
              "dtype: object"
            ]
          },
          "metadata": {
            "tags": []
          },
          "execution_count": 154
        }
      ]
    },
    {
      "cell_type": "markdown",
      "metadata": {
        "id": "oO_vS93vlIPP"
      },
      "source": [
        "Conversion to datetime"
      ]
    },
    {
      "cell_type": "code",
      "metadata": {
        "colab": {
          "base_uri": "https://localhost:8080/",
          "height": 316
        },
        "id": "AYMEeTWei2Sd",
        "outputId": "7a107d0f-4fa0-4697-aeb3-580ab7e9c067"
      },
      "source": [
        "data['due_in_date']= pd.to_datetime(data.due_in_date, format='%Y%m%d')\r\n",
        "data.head()"
      ],
      "execution_count": 155,
      "outputs": [
        {
          "output_type": "execute_result",
          "data": {
            "text/html": [
              "<div>\n",
              "<style scoped>\n",
              "    .dataframe tbody tr th:only-of-type {\n",
              "        vertical-align: middle;\n",
              "    }\n",
              "\n",
              "    .dataframe tbody tr th {\n",
              "        vertical-align: top;\n",
              "    }\n",
              "\n",
              "    .dataframe thead th {\n",
              "        text-align: right;\n",
              "    }\n",
              "</style>\n",
              "<table border=\"1\" class=\"dataframe\">\n",
              "  <thead>\n",
              "    <tr style=\"text-align: right;\">\n",
              "      <th></th>\n",
              "      <th>cust_number</th>\n",
              "      <th>name_customer</th>\n",
              "      <th>clear_date</th>\n",
              "      <th>buisness_year</th>\n",
              "      <th>doc_id</th>\n",
              "      <th>posting_date</th>\n",
              "      <th>document_create_date</th>\n",
              "      <th>document_create_date1</th>\n",
              "      <th>due_in_date</th>\n",
              "      <th>document type</th>\n",
              "      <th>total_open_amount</th>\n",
              "      <th>baseline_create_date</th>\n",
              "      <th>cust_payment_terms</th>\n",
              "      <th>invoice_id</th>\n",
              "      <th>isOpen</th>\n",
              "    </tr>\n",
              "  </thead>\n",
              "  <tbody>\n",
              "    <tr>\n",
              "      <th>0</th>\n",
              "      <td>200769623</td>\n",
              "      <td>WAL-MAR systems</td>\n",
              "      <td>04-06-2019 00:00</td>\n",
              "      <td>2019</td>\n",
              "      <td>1929359463</td>\n",
              "      <td>22-05-2019</td>\n",
              "      <td>20190522</td>\n",
              "      <td>20190522</td>\n",
              "      <td>2019-06-06</td>\n",
              "      <td>RV</td>\n",
              "      <td>14916.57</td>\n",
              "      <td>20190522</td>\n",
              "      <td>NAH4</td>\n",
              "      <td>1.929359e+09</td>\n",
              "      <td>0</td>\n",
              "    </tr>\n",
              "    <tr>\n",
              "      <th>1</th>\n",
              "      <td>200769623</td>\n",
              "      <td>WAL-MAR corporation</td>\n",
              "      <td>13-08-2019 00:00</td>\n",
              "      <td>2019</td>\n",
              "      <td>1929690827</td>\n",
              "      <td>02-08-2019</td>\n",
              "      <td>20190802</td>\n",
              "      <td>20190802</td>\n",
              "      <td>2019-08-17</td>\n",
              "      <td>RV</td>\n",
              "      <td>17878.43</td>\n",
              "      <td>20190802</td>\n",
              "      <td>NAH4</td>\n",
              "      <td>1.929691e+09</td>\n",
              "      <td>0</td>\n",
              "    </tr>\n",
              "    <tr>\n",
              "      <th>2</th>\n",
              "      <td>200353024</td>\n",
              "      <td>DECA foundation</td>\n",
              "      <td>12-04-2019 00:00</td>\n",
              "      <td>2019</td>\n",
              "      <td>1929135118</td>\n",
              "      <td>12-04-2019</td>\n",
              "      <td>20190412</td>\n",
              "      <td>20190412</td>\n",
              "      <td>2019-04-08</td>\n",
              "      <td>RV</td>\n",
              "      <td>5709.12</td>\n",
              "      <td>20190316</td>\n",
              "      <td>NAM4</td>\n",
              "      <td>1.929135e+09</td>\n",
              "      <td>0</td>\n",
              "    </tr>\n",
              "    <tr>\n",
              "      <th>3</th>\n",
              "      <td>200744019</td>\n",
              "      <td>TARG trust</td>\n",
              "      <td>09-05-2019 00:00</td>\n",
              "      <td>2019</td>\n",
              "      <td>1929194057</td>\n",
              "      <td>24-04-2019</td>\n",
              "      <td>20190423</td>\n",
              "      <td>20190424</td>\n",
              "      <td>2019-05-09</td>\n",
              "      <td>RV</td>\n",
              "      <td>3590.92</td>\n",
              "      <td>20190424</td>\n",
              "      <td>NAA8</td>\n",
              "      <td>1.929194e+09</td>\n",
              "      <td>0</td>\n",
              "    </tr>\n",
              "    <tr>\n",
              "      <th>4</th>\n",
              "      <td>200739941</td>\n",
              "      <td>FOX</td>\n",
              "      <td>15-01-2020 00:00</td>\n",
              "      <td>2020</td>\n",
              "      <td>1930329674</td>\n",
              "      <td>30-12-2019</td>\n",
              "      <td>20191228</td>\n",
              "      <td>20191230</td>\n",
              "      <td>2020-01-14</td>\n",
              "      <td>RV</td>\n",
              "      <td>21390.29</td>\n",
              "      <td>20191230</td>\n",
              "      <td>NAA8</td>\n",
              "      <td>1.930330e+09</td>\n",
              "      <td>0</td>\n",
              "    </tr>\n",
              "  </tbody>\n",
              "</table>\n",
              "</div>"
            ],
            "text/plain": [
              "  cust_number        name_customer  ...    invoice_id  isOpen\n",
              "0   200769623      WAL-MAR systems  ...  1.929359e+09       0\n",
              "1   200769623  WAL-MAR corporation  ...  1.929691e+09       0\n",
              "2   200353024      DECA foundation  ...  1.929135e+09       0\n",
              "3   200744019           TARG trust  ...  1.929194e+09       0\n",
              "4   200739941                FOX    ...  1.930330e+09       0\n",
              "\n",
              "[5 rows x 15 columns]"
            ]
          },
          "metadata": {
            "tags": []
          },
          "execution_count": 155
        }
      ]
    },
    {
      "cell_type": "code",
      "metadata": {
        "id": "sQdnroRM_dfv"
      },
      "source": [
        "data['clear_date']= pd.to_datetime(data[\"clear_date\"])\r\n"
      ],
      "execution_count": 156,
      "outputs": []
    },
    {
      "cell_type": "code",
      "metadata": {
        "colab": {
          "base_uri": "https://localhost:8080/",
          "height": 282
        },
        "id": "EA18XDpZuI43",
        "outputId": "6ead78d1-5d2f-4c9b-f603-a6b19d36690e"
      },
      "source": [
        "data['document_create_date1']= pd.to_datetime(data.document_create_date1, format='%Y%m%d')\r\n",
        "data.head()"
      ],
      "execution_count": 157,
      "outputs": [
        {
          "output_type": "execute_result",
          "data": {
            "text/html": [
              "<div>\n",
              "<style scoped>\n",
              "    .dataframe tbody tr th:only-of-type {\n",
              "        vertical-align: middle;\n",
              "    }\n",
              "\n",
              "    .dataframe tbody tr th {\n",
              "        vertical-align: top;\n",
              "    }\n",
              "\n",
              "    .dataframe thead th {\n",
              "        text-align: right;\n",
              "    }\n",
              "</style>\n",
              "<table border=\"1\" class=\"dataframe\">\n",
              "  <thead>\n",
              "    <tr style=\"text-align: right;\">\n",
              "      <th></th>\n",
              "      <th>cust_number</th>\n",
              "      <th>name_customer</th>\n",
              "      <th>clear_date</th>\n",
              "      <th>buisness_year</th>\n",
              "      <th>doc_id</th>\n",
              "      <th>posting_date</th>\n",
              "      <th>document_create_date</th>\n",
              "      <th>document_create_date1</th>\n",
              "      <th>due_in_date</th>\n",
              "      <th>document type</th>\n",
              "      <th>total_open_amount</th>\n",
              "      <th>baseline_create_date</th>\n",
              "      <th>cust_payment_terms</th>\n",
              "      <th>invoice_id</th>\n",
              "      <th>isOpen</th>\n",
              "    </tr>\n",
              "  </thead>\n",
              "  <tbody>\n",
              "    <tr>\n",
              "      <th>0</th>\n",
              "      <td>200769623</td>\n",
              "      <td>WAL-MAR systems</td>\n",
              "      <td>2019-04-06</td>\n",
              "      <td>2019</td>\n",
              "      <td>1929359463</td>\n",
              "      <td>22-05-2019</td>\n",
              "      <td>20190522</td>\n",
              "      <td>2019-05-22</td>\n",
              "      <td>2019-06-06</td>\n",
              "      <td>RV</td>\n",
              "      <td>14916.57</td>\n",
              "      <td>20190522</td>\n",
              "      <td>NAH4</td>\n",
              "      <td>1.929359e+09</td>\n",
              "      <td>0</td>\n",
              "    </tr>\n",
              "    <tr>\n",
              "      <th>1</th>\n",
              "      <td>200769623</td>\n",
              "      <td>WAL-MAR corporation</td>\n",
              "      <td>2019-08-13</td>\n",
              "      <td>2019</td>\n",
              "      <td>1929690827</td>\n",
              "      <td>02-08-2019</td>\n",
              "      <td>20190802</td>\n",
              "      <td>2019-08-02</td>\n",
              "      <td>2019-08-17</td>\n",
              "      <td>RV</td>\n",
              "      <td>17878.43</td>\n",
              "      <td>20190802</td>\n",
              "      <td>NAH4</td>\n",
              "      <td>1.929691e+09</td>\n",
              "      <td>0</td>\n",
              "    </tr>\n",
              "    <tr>\n",
              "      <th>2</th>\n",
              "      <td>200353024</td>\n",
              "      <td>DECA foundation</td>\n",
              "      <td>2019-12-04</td>\n",
              "      <td>2019</td>\n",
              "      <td>1929135118</td>\n",
              "      <td>12-04-2019</td>\n",
              "      <td>20190412</td>\n",
              "      <td>2019-04-12</td>\n",
              "      <td>2019-04-08</td>\n",
              "      <td>RV</td>\n",
              "      <td>5709.12</td>\n",
              "      <td>20190316</td>\n",
              "      <td>NAM4</td>\n",
              "      <td>1.929135e+09</td>\n",
              "      <td>0</td>\n",
              "    </tr>\n",
              "    <tr>\n",
              "      <th>3</th>\n",
              "      <td>200744019</td>\n",
              "      <td>TARG trust</td>\n",
              "      <td>2019-09-05</td>\n",
              "      <td>2019</td>\n",
              "      <td>1929194057</td>\n",
              "      <td>24-04-2019</td>\n",
              "      <td>20190423</td>\n",
              "      <td>2019-04-24</td>\n",
              "      <td>2019-05-09</td>\n",
              "      <td>RV</td>\n",
              "      <td>3590.92</td>\n",
              "      <td>20190424</td>\n",
              "      <td>NAA8</td>\n",
              "      <td>1.929194e+09</td>\n",
              "      <td>0</td>\n",
              "    </tr>\n",
              "    <tr>\n",
              "      <th>4</th>\n",
              "      <td>200739941</td>\n",
              "      <td>FOX</td>\n",
              "      <td>2020-01-15</td>\n",
              "      <td>2020</td>\n",
              "      <td>1930329674</td>\n",
              "      <td>30-12-2019</td>\n",
              "      <td>20191228</td>\n",
              "      <td>2019-12-30</td>\n",
              "      <td>2020-01-14</td>\n",
              "      <td>RV</td>\n",
              "      <td>21390.29</td>\n",
              "      <td>20191230</td>\n",
              "      <td>NAA8</td>\n",
              "      <td>1.930330e+09</td>\n",
              "      <td>0</td>\n",
              "    </tr>\n",
              "  </tbody>\n",
              "</table>\n",
              "</div>"
            ],
            "text/plain": [
              "  cust_number        name_customer  ...    invoice_id  isOpen\n",
              "0   200769623      WAL-MAR systems  ...  1.929359e+09       0\n",
              "1   200769623  WAL-MAR corporation  ...  1.929691e+09       0\n",
              "2   200353024      DECA foundation  ...  1.929135e+09       0\n",
              "3   200744019           TARG trust  ...  1.929194e+09       0\n",
              "4   200739941                FOX    ...  1.930330e+09       0\n",
              "\n",
              "[5 rows x 15 columns]"
            ]
          },
          "metadata": {
            "tags": []
          },
          "execution_count": 157
        }
      ]
    },
    {
      "cell_type": "code",
      "metadata": {
        "colab": {
          "base_uri": "https://localhost:8080/",
          "height": 282
        },
        "id": "1S4BrbsUlGRq",
        "outputId": "07fc695f-46b1-498f-f963-664968ae6ee1"
      },
      "source": [
        "#since posting date can provide better info\r\n",
        "data['posting_date']= pd.to_datetime(data['posting_date'])\r\n",
        "data.drop('document_create_date', axis=1, inplace=True)\r\n",
        "#data.drop('document_create_date1', axis=1, inplace=True)\r\n",
        "data.head()"
      ],
      "execution_count": 158,
      "outputs": [
        {
          "output_type": "execute_result",
          "data": {
            "text/html": [
              "<div>\n",
              "<style scoped>\n",
              "    .dataframe tbody tr th:only-of-type {\n",
              "        vertical-align: middle;\n",
              "    }\n",
              "\n",
              "    .dataframe tbody tr th {\n",
              "        vertical-align: top;\n",
              "    }\n",
              "\n",
              "    .dataframe thead th {\n",
              "        text-align: right;\n",
              "    }\n",
              "</style>\n",
              "<table border=\"1\" class=\"dataframe\">\n",
              "  <thead>\n",
              "    <tr style=\"text-align: right;\">\n",
              "      <th></th>\n",
              "      <th>cust_number</th>\n",
              "      <th>name_customer</th>\n",
              "      <th>clear_date</th>\n",
              "      <th>buisness_year</th>\n",
              "      <th>doc_id</th>\n",
              "      <th>posting_date</th>\n",
              "      <th>document_create_date1</th>\n",
              "      <th>due_in_date</th>\n",
              "      <th>document type</th>\n",
              "      <th>total_open_amount</th>\n",
              "      <th>baseline_create_date</th>\n",
              "      <th>cust_payment_terms</th>\n",
              "      <th>invoice_id</th>\n",
              "      <th>isOpen</th>\n",
              "    </tr>\n",
              "  </thead>\n",
              "  <tbody>\n",
              "    <tr>\n",
              "      <th>0</th>\n",
              "      <td>200769623</td>\n",
              "      <td>WAL-MAR systems</td>\n",
              "      <td>2019-04-06</td>\n",
              "      <td>2019</td>\n",
              "      <td>1929359463</td>\n",
              "      <td>2019-05-22</td>\n",
              "      <td>2019-05-22</td>\n",
              "      <td>2019-06-06</td>\n",
              "      <td>RV</td>\n",
              "      <td>14916.57</td>\n",
              "      <td>20190522</td>\n",
              "      <td>NAH4</td>\n",
              "      <td>1.929359e+09</td>\n",
              "      <td>0</td>\n",
              "    </tr>\n",
              "    <tr>\n",
              "      <th>1</th>\n",
              "      <td>200769623</td>\n",
              "      <td>WAL-MAR corporation</td>\n",
              "      <td>2019-08-13</td>\n",
              "      <td>2019</td>\n",
              "      <td>1929690827</td>\n",
              "      <td>2019-02-08</td>\n",
              "      <td>2019-08-02</td>\n",
              "      <td>2019-08-17</td>\n",
              "      <td>RV</td>\n",
              "      <td>17878.43</td>\n",
              "      <td>20190802</td>\n",
              "      <td>NAH4</td>\n",
              "      <td>1.929691e+09</td>\n",
              "      <td>0</td>\n",
              "    </tr>\n",
              "    <tr>\n",
              "      <th>2</th>\n",
              "      <td>200353024</td>\n",
              "      <td>DECA foundation</td>\n",
              "      <td>2019-12-04</td>\n",
              "      <td>2019</td>\n",
              "      <td>1929135118</td>\n",
              "      <td>2019-12-04</td>\n",
              "      <td>2019-04-12</td>\n",
              "      <td>2019-04-08</td>\n",
              "      <td>RV</td>\n",
              "      <td>5709.12</td>\n",
              "      <td>20190316</td>\n",
              "      <td>NAM4</td>\n",
              "      <td>1.929135e+09</td>\n",
              "      <td>0</td>\n",
              "    </tr>\n",
              "    <tr>\n",
              "      <th>3</th>\n",
              "      <td>200744019</td>\n",
              "      <td>TARG trust</td>\n",
              "      <td>2019-09-05</td>\n",
              "      <td>2019</td>\n",
              "      <td>1929194057</td>\n",
              "      <td>2019-04-24</td>\n",
              "      <td>2019-04-24</td>\n",
              "      <td>2019-05-09</td>\n",
              "      <td>RV</td>\n",
              "      <td>3590.92</td>\n",
              "      <td>20190424</td>\n",
              "      <td>NAA8</td>\n",
              "      <td>1.929194e+09</td>\n",
              "      <td>0</td>\n",
              "    </tr>\n",
              "    <tr>\n",
              "      <th>4</th>\n",
              "      <td>200739941</td>\n",
              "      <td>FOX</td>\n",
              "      <td>2020-01-15</td>\n",
              "      <td>2020</td>\n",
              "      <td>1930329674</td>\n",
              "      <td>2019-12-30</td>\n",
              "      <td>2019-12-30</td>\n",
              "      <td>2020-01-14</td>\n",
              "      <td>RV</td>\n",
              "      <td>21390.29</td>\n",
              "      <td>20191230</td>\n",
              "      <td>NAA8</td>\n",
              "      <td>1.930330e+09</td>\n",
              "      <td>0</td>\n",
              "    </tr>\n",
              "  </tbody>\n",
              "</table>\n",
              "</div>"
            ],
            "text/plain": [
              "  cust_number        name_customer  ...    invoice_id  isOpen\n",
              "0   200769623      WAL-MAR systems  ...  1.929359e+09       0\n",
              "1   200769623  WAL-MAR corporation  ...  1.929691e+09       0\n",
              "2   200353024      DECA foundation  ...  1.929135e+09       0\n",
              "3   200744019           TARG trust  ...  1.929194e+09       0\n",
              "4   200739941                FOX    ...  1.930330e+09       0\n",
              "\n",
              "[5 rows x 14 columns]"
            ]
          },
          "metadata": {
            "tags": []
          },
          "execution_count": 158
        }
      ]
    },
    {
      "cell_type": "code",
      "metadata": {
        "colab": {
          "base_uri": "https://localhost:8080/"
        },
        "id": "V1-m6jUpnkDI",
        "outputId": "48f0d0b7-7a81-4197-a824-d673c25844fe"
      },
      "source": [
        "\r\n",
        "data.dtypes"
      ],
      "execution_count": 159,
      "outputs": [
        {
          "output_type": "execute_result",
          "data": {
            "text/plain": [
              "cust_number                      object\n",
              "name_customer                    object\n",
              "clear_date               datetime64[ns]\n",
              "buisness_year                     int64\n",
              "doc_id                            int64\n",
              "posting_date             datetime64[ns]\n",
              "document_create_date1    datetime64[ns]\n",
              "due_in_date              datetime64[ns]\n",
              "document type                    object\n",
              "total_open_amount               float64\n",
              "baseline_create_date              int64\n",
              "cust_payment_terms               object\n",
              "invoice_id                      float64\n",
              "isOpen                            int64\n",
              "dtype: object"
            ]
          },
          "metadata": {
            "tags": []
          },
          "execution_count": 159
        }
      ]
    },
    {
      "cell_type": "code",
      "metadata": {
        "id": "qevPaS3Vt7v0",
        "colab": {
          "base_uri": "https://localhost:8080/"
        },
        "outputId": "f8c7f050-0972-4fd3-afc3-293679569686"
      },
      "source": [
        "data=data.astype({\"cust_number\" : 'category'})\r\n",
        "data.drop('name_customer', axis=1, inplace=True)\r\n",
        "data.dtypes\r\n"
      ],
      "execution_count": 160,
      "outputs": [
        {
          "output_type": "execute_result",
          "data": {
            "text/plain": [
              "cust_number                    category\n",
              "clear_date               datetime64[ns]\n",
              "buisness_year                     int64\n",
              "doc_id                            int64\n",
              "posting_date             datetime64[ns]\n",
              "document_create_date1    datetime64[ns]\n",
              "due_in_date              datetime64[ns]\n",
              "document type                    object\n",
              "total_open_amount               float64\n",
              "baseline_create_date              int64\n",
              "cust_payment_terms               object\n",
              "invoice_id                      float64\n",
              "isOpen                            int64\n",
              "dtype: object"
            ]
          },
          "metadata": {
            "tags": []
          },
          "execution_count": 160
        }
      ]
    },
    {
      "cell_type": "code",
      "metadata": {
        "id": "NnJLsdJ-o5Qw"
      },
      "source": [
        "#converting clear_date to datetime format\r\n",
        "data['clear_date']=pd.to_datetime(data['clear_date'])"
      ],
      "execution_count": 161,
      "outputs": []
    },
    {
      "cell_type": "code",
      "metadata": {
        "colab": {
          "base_uri": "https://localhost:8080/",
          "height": 676
        },
        "id": "67zlSkfopUnj",
        "outputId": "777e06ad-6f7a-4815-caad-bd0ebbfa1219"
      },
      "source": [
        "#calculating delay\r\n",
        "data['delay']=(data['clear_date']-data['due_in_date']).dt.days\r\n",
        "data.head(20)"
      ],
      "execution_count": 162,
      "outputs": [
        {
          "output_type": "execute_result",
          "data": {
            "text/html": [
              "<div>\n",
              "<style scoped>\n",
              "    .dataframe tbody tr th:only-of-type {\n",
              "        vertical-align: middle;\n",
              "    }\n",
              "\n",
              "    .dataframe tbody tr th {\n",
              "        vertical-align: top;\n",
              "    }\n",
              "\n",
              "    .dataframe thead th {\n",
              "        text-align: right;\n",
              "    }\n",
              "</style>\n",
              "<table border=\"1\" class=\"dataframe\">\n",
              "  <thead>\n",
              "    <tr style=\"text-align: right;\">\n",
              "      <th></th>\n",
              "      <th>cust_number</th>\n",
              "      <th>clear_date</th>\n",
              "      <th>buisness_year</th>\n",
              "      <th>doc_id</th>\n",
              "      <th>posting_date</th>\n",
              "      <th>document_create_date1</th>\n",
              "      <th>due_in_date</th>\n",
              "      <th>document type</th>\n",
              "      <th>total_open_amount</th>\n",
              "      <th>baseline_create_date</th>\n",
              "      <th>cust_payment_terms</th>\n",
              "      <th>invoice_id</th>\n",
              "      <th>isOpen</th>\n",
              "      <th>delay</th>\n",
              "    </tr>\n",
              "  </thead>\n",
              "  <tbody>\n",
              "    <tr>\n",
              "      <th>0</th>\n",
              "      <td>200769623</td>\n",
              "      <td>2019-04-06</td>\n",
              "      <td>2019</td>\n",
              "      <td>1929359463</td>\n",
              "      <td>2019-05-22</td>\n",
              "      <td>2019-05-22</td>\n",
              "      <td>2019-06-06</td>\n",
              "      <td>RV</td>\n",
              "      <td>14916.57</td>\n",
              "      <td>20190522</td>\n",
              "      <td>NAH4</td>\n",
              "      <td>1.929359e+09</td>\n",
              "      <td>0</td>\n",
              "      <td>-61.0</td>\n",
              "    </tr>\n",
              "    <tr>\n",
              "      <th>1</th>\n",
              "      <td>200769623</td>\n",
              "      <td>2019-08-13</td>\n",
              "      <td>2019</td>\n",
              "      <td>1929690827</td>\n",
              "      <td>2019-02-08</td>\n",
              "      <td>2019-08-02</td>\n",
              "      <td>2019-08-17</td>\n",
              "      <td>RV</td>\n",
              "      <td>17878.43</td>\n",
              "      <td>20190802</td>\n",
              "      <td>NAH4</td>\n",
              "      <td>1.929691e+09</td>\n",
              "      <td>0</td>\n",
              "      <td>-4.0</td>\n",
              "    </tr>\n",
              "    <tr>\n",
              "      <th>2</th>\n",
              "      <td>200353024</td>\n",
              "      <td>2019-12-04</td>\n",
              "      <td>2019</td>\n",
              "      <td>1929135118</td>\n",
              "      <td>2019-12-04</td>\n",
              "      <td>2019-04-12</td>\n",
              "      <td>2019-04-08</td>\n",
              "      <td>RV</td>\n",
              "      <td>5709.12</td>\n",
              "      <td>20190316</td>\n",
              "      <td>NAM4</td>\n",
              "      <td>1.929135e+09</td>\n",
              "      <td>0</td>\n",
              "      <td>240.0</td>\n",
              "    </tr>\n",
              "    <tr>\n",
              "      <th>3</th>\n",
              "      <td>200744019</td>\n",
              "      <td>2019-09-05</td>\n",
              "      <td>2019</td>\n",
              "      <td>1929194057</td>\n",
              "      <td>2019-04-24</td>\n",
              "      <td>2019-04-24</td>\n",
              "      <td>2019-05-09</td>\n",
              "      <td>RV</td>\n",
              "      <td>3590.92</td>\n",
              "      <td>20190424</td>\n",
              "      <td>NAA8</td>\n",
              "      <td>1.929194e+09</td>\n",
              "      <td>0</td>\n",
              "      <td>119.0</td>\n",
              "    </tr>\n",
              "    <tr>\n",
              "      <th>4</th>\n",
              "      <td>200739941</td>\n",
              "      <td>2020-01-15</td>\n",
              "      <td>2020</td>\n",
              "      <td>1930329674</td>\n",
              "      <td>2019-12-30</td>\n",
              "      <td>2019-12-30</td>\n",
              "      <td>2020-01-14</td>\n",
              "      <td>RV</td>\n",
              "      <td>21390.29</td>\n",
              "      <td>20191230</td>\n",
              "      <td>NAA8</td>\n",
              "      <td>1.930330e+09</td>\n",
              "      <td>0</td>\n",
              "      <td>1.0</td>\n",
              "    </tr>\n",
              "    <tr>\n",
              "      <th>5</th>\n",
              "      <td>200780383</td>\n",
              "      <td>2019-07-06</td>\n",
              "      <td>2019</td>\n",
              "      <td>1929076457</td>\n",
              "      <td>2019-03-04</td>\n",
              "      <td>2019-04-03</td>\n",
              "      <td>2019-06-07</td>\n",
              "      <td>RV</td>\n",
              "      <td>1299.19</td>\n",
              "      <td>20190403</td>\n",
              "      <td>NAGD</td>\n",
              "      <td>1.929076e+09</td>\n",
              "      <td>0</td>\n",
              "      <td>29.0</td>\n",
              "    </tr>\n",
              "    <tr>\n",
              "      <th>6</th>\n",
              "      <td>200729290</td>\n",
              "      <td>2019-12-12</td>\n",
              "      <td>2019</td>\n",
              "      <td>1930094244</td>\n",
              "      <td>2019-02-11</td>\n",
              "      <td>2019-11-02</td>\n",
              "      <td>2019-12-12</td>\n",
              "      <td>RV</td>\n",
              "      <td>63021.51</td>\n",
              "      <td>20191102</td>\n",
              "      <td>NAWU</td>\n",
              "      <td>1.930094e+09</td>\n",
              "      <td>0</td>\n",
              "      <td>0.0</td>\n",
              "    </tr>\n",
              "    <tr>\n",
              "      <th>7</th>\n",
              "      <td>200794332</td>\n",
              "      <td>2019-07-08</td>\n",
              "      <td>2019</td>\n",
              "      <td>1929651773</td>\n",
              "      <td>2019-07-24</td>\n",
              "      <td>2019-07-24</td>\n",
              "      <td>2019-08-08</td>\n",
              "      <td>RV</td>\n",
              "      <td>1508.48</td>\n",
              "      <td>20190724</td>\n",
              "      <td>NAAX</td>\n",
              "      <td>1.929652e+09</td>\n",
              "      <td>0</td>\n",
              "      <td>-31.0</td>\n",
              "    </tr>\n",
              "    <tr>\n",
              "      <th>8</th>\n",
              "      <td>200769623</td>\n",
              "      <td>2019-09-12</td>\n",
              "      <td>2019</td>\n",
              "      <td>1930199514</td>\n",
              "      <td>2019-11-27</td>\n",
              "      <td>2019-11-27</td>\n",
              "      <td>2019-12-12</td>\n",
              "      <td>RV</td>\n",
              "      <td>7358.49</td>\n",
              "      <td>20191127</td>\n",
              "      <td>NAH4</td>\n",
              "      <td>1.930200e+09</td>\n",
              "      <td>0</td>\n",
              "      <td>-91.0</td>\n",
              "    </tr>\n",
              "    <tr>\n",
              "      <th>9</th>\n",
              "      <td>200792734</td>\n",
              "      <td>2019-10-29</td>\n",
              "      <td>2019</td>\n",
              "      <td>1930009122</td>\n",
              "      <td>2019-10-14</td>\n",
              "      <td>2019-10-14</td>\n",
              "      <td>2019-10-29</td>\n",
              "      <td>RV</td>\n",
              "      <td>155210.96</td>\n",
              "      <td>20191014</td>\n",
              "      <td>NAA8</td>\n",
              "      <td>1.930009e+09</td>\n",
              "      <td>0</td>\n",
              "      <td>0.0</td>\n",
              "    </tr>\n",
              "    <tr>\n",
              "      <th>10</th>\n",
              "      <td>100036168</td>\n",
              "      <td>2019-12-16</td>\n",
              "      <td>2019</td>\n",
              "      <td>1930216358</td>\n",
              "      <td>2019-04-12</td>\n",
              "      <td>2019-12-04</td>\n",
              "      <td>2019-12-14</td>\n",
              "      <td>RV</td>\n",
              "      <td>17458.65</td>\n",
              "      <td>20191204</td>\n",
              "      <td>NA10</td>\n",
              "      <td>1.930216e+09</td>\n",
              "      <td>0</td>\n",
              "      <td>2.0</td>\n",
              "    </tr>\n",
              "    <tr>\n",
              "      <th>11</th>\n",
              "      <td>200706844</td>\n",
              "      <td>2019-11-15</td>\n",
              "      <td>2019</td>\n",
              "      <td>1930066560</td>\n",
              "      <td>2019-10-30</td>\n",
              "      <td>2019-10-30</td>\n",
              "      <td>2019-11-14</td>\n",
              "      <td>RV</td>\n",
              "      <td>50714.24</td>\n",
              "      <td>20191030</td>\n",
              "      <td>NAA8</td>\n",
              "      <td>1.930067e+09</td>\n",
              "      <td>0</td>\n",
              "      <td>1.0</td>\n",
              "    </tr>\n",
              "    <tr>\n",
              "      <th>12</th>\n",
              "      <td>200712105</td>\n",
              "      <td>2020-02-28</td>\n",
              "      <td>2020</td>\n",
              "      <td>1930524285</td>\n",
              "      <td>2020-02-13</td>\n",
              "      <td>2020-02-13</td>\n",
              "      <td>2020-02-28</td>\n",
              "      <td>RV</td>\n",
              "      <td>33629.64</td>\n",
              "      <td>20200213</td>\n",
              "      <td>NAA8</td>\n",
              "      <td>1.930524e+09</td>\n",
              "      <td>0</td>\n",
              "      <td>0.0</td>\n",
              "    </tr>\n",
              "    <tr>\n",
              "      <th>13</th>\n",
              "      <td>200735528</td>\n",
              "      <td>2020-01-27</td>\n",
              "      <td>2020</td>\n",
              "      <td>1930365151</td>\n",
              "      <td>2020-10-01</td>\n",
              "      <td>2020-01-10</td>\n",
              "      <td>2020-01-25</td>\n",
              "      <td>RV</td>\n",
              "      <td>106031.89</td>\n",
              "      <td>20200110</td>\n",
              "      <td>NAA8</td>\n",
              "      <td>1.930365e+09</td>\n",
              "      <td>0</td>\n",
              "      <td>2.0</td>\n",
              "    </tr>\n",
              "    <tr>\n",
              "      <th>14</th>\n",
              "      <td>200769623</td>\n",
              "      <td>2019-07-05</td>\n",
              "      <td>2019</td>\n",
              "      <td>1929208262</td>\n",
              "      <td>2019-04-25</td>\n",
              "      <td>2019-04-25</td>\n",
              "      <td>2019-05-10</td>\n",
              "      <td>RV</td>\n",
              "      <td>11763.88</td>\n",
              "      <td>20190425</td>\n",
              "      <td>NAH4</td>\n",
              "      <td>1.929208e+09</td>\n",
              "      <td>0</td>\n",
              "      <td>56.0</td>\n",
              "    </tr>\n",
              "    <tr>\n",
              "      <th>15</th>\n",
              "      <td>200769623</td>\n",
              "      <td>2019-12-13</td>\n",
              "      <td>2019</td>\n",
              "      <td>1930194338</td>\n",
              "      <td>2019-11-27</td>\n",
              "      <td>2019-11-27</td>\n",
              "      <td>2019-12-12</td>\n",
              "      <td>RV</td>\n",
              "      <td>70347.84</td>\n",
              "      <td>20191127</td>\n",
              "      <td>NAH4</td>\n",
              "      <td>1.930194e+09</td>\n",
              "      <td>0</td>\n",
              "      <td>1.0</td>\n",
              "    </tr>\n",
              "    <tr>\n",
              "      <th>16</th>\n",
              "      <td>200779906</td>\n",
              "      <td>2019-06-06</td>\n",
              "      <td>2019</td>\n",
              "      <td>1929350061</td>\n",
              "      <td>2019-05-21</td>\n",
              "      <td>2019-05-21</td>\n",
              "      <td>2019-06-05</td>\n",
              "      <td>RV</td>\n",
              "      <td>21346.46</td>\n",
              "      <td>20190521</td>\n",
              "      <td>NAA8</td>\n",
              "      <td>1.929350e+09</td>\n",
              "      <td>0</td>\n",
              "      <td>1.0</td>\n",
              "    </tr>\n",
              "    <tr>\n",
              "      <th>17</th>\n",
              "      <td>200792734</td>\n",
              "      <td>2019-01-04</td>\n",
              "      <td>2019</td>\n",
              "      <td>1928987145</td>\n",
              "      <td>2019-03-18</td>\n",
              "      <td>2019-03-18</td>\n",
              "      <td>2019-04-02</td>\n",
              "      <td>RV</td>\n",
              "      <td>18162.26</td>\n",
              "      <td>20190318</td>\n",
              "      <td>NAA8</td>\n",
              "      <td>1.928987e+09</td>\n",
              "      <td>0</td>\n",
              "      <td>-88.0</td>\n",
              "    </tr>\n",
              "    <tr>\n",
              "      <th>18</th>\n",
              "      <td>200756072</td>\n",
              "      <td>2019-03-04</td>\n",
              "      <td>2019</td>\n",
              "      <td>1928920213</td>\n",
              "      <td>2019-08-03</td>\n",
              "      <td>2019-03-08</td>\n",
              "      <td>2019-03-28</td>\n",
              "      <td>RV</td>\n",
              "      <td>76581.60</td>\n",
              "      <td>20190308</td>\n",
              "      <td>NAD1</td>\n",
              "      <td>1.928920e+09</td>\n",
              "      <td>0</td>\n",
              "      <td>-24.0</td>\n",
              "    </tr>\n",
              "    <tr>\n",
              "      <th>19</th>\n",
              "      <td>200020431</td>\n",
              "      <td>2019-03-25</td>\n",
              "      <td>2019</td>\n",
              "      <td>1928996095</td>\n",
              "      <td>2019-03-20</td>\n",
              "      <td>2019-03-20</td>\n",
              "      <td>2019-03-26</td>\n",
              "      <td>RV</td>\n",
              "      <td>19762.88</td>\n",
              "      <td>20190316</td>\n",
              "      <td>NAM2</td>\n",
              "      <td>1.928996e+09</td>\n",
              "      <td>0</td>\n",
              "      <td>-1.0</td>\n",
              "    </tr>\n",
              "  </tbody>\n",
              "</table>\n",
              "</div>"
            ],
            "text/plain": [
              "   cust_number clear_date  buisness_year  ...    invoice_id isOpen  delay\n",
              "0    200769623 2019-04-06           2019  ...  1.929359e+09      0  -61.0\n",
              "1    200769623 2019-08-13           2019  ...  1.929691e+09      0   -4.0\n",
              "2    200353024 2019-12-04           2019  ...  1.929135e+09      0  240.0\n",
              "3    200744019 2019-09-05           2019  ...  1.929194e+09      0  119.0\n",
              "4    200739941 2020-01-15           2020  ...  1.930330e+09      0    1.0\n",
              "5    200780383 2019-07-06           2019  ...  1.929076e+09      0   29.0\n",
              "6    200729290 2019-12-12           2019  ...  1.930094e+09      0    0.0\n",
              "7    200794332 2019-07-08           2019  ...  1.929652e+09      0  -31.0\n",
              "8    200769623 2019-09-12           2019  ...  1.930200e+09      0  -91.0\n",
              "9    200792734 2019-10-29           2019  ...  1.930009e+09      0    0.0\n",
              "10   100036168 2019-12-16           2019  ...  1.930216e+09      0    2.0\n",
              "11   200706844 2019-11-15           2019  ...  1.930067e+09      0    1.0\n",
              "12   200712105 2020-02-28           2020  ...  1.930524e+09      0    0.0\n",
              "13   200735528 2020-01-27           2020  ...  1.930365e+09      0    2.0\n",
              "14   200769623 2019-07-05           2019  ...  1.929208e+09      0   56.0\n",
              "15   200769623 2019-12-13           2019  ...  1.930194e+09      0    1.0\n",
              "16   200779906 2019-06-06           2019  ...  1.929350e+09      0    1.0\n",
              "17   200792734 2019-01-04           2019  ...  1.928987e+09      0  -88.0\n",
              "18   200756072 2019-03-04           2019  ...  1.928920e+09      0  -24.0\n",
              "19   200020431 2019-03-25           2019  ...  1.928996e+09      0   -1.0\n",
              "\n",
              "[20 rows x 14 columns]"
            ]
          },
          "metadata": {
            "tags": []
          },
          "execution_count": 162
        }
      ]
    },
    {
      "cell_type": "code",
      "metadata": {
        "colab": {
          "base_uri": "https://localhost:8080/"
        },
        "id": "UYO5yOrdoKEz",
        "outputId": "82215e2a-9c50-4afe-b5b4-ecd5c8cbc874"
      },
      "source": [
        "#converting the delay to int type\r\n",
        "type(data['delay'])\r\n",
        "data.dtypes"
      ],
      "execution_count": 163,
      "outputs": [
        {
          "output_type": "execute_result",
          "data": {
            "text/plain": [
              "cust_number                    category\n",
              "clear_date               datetime64[ns]\n",
              "buisness_year                     int64\n",
              "doc_id                            int64\n",
              "posting_date             datetime64[ns]\n",
              "document_create_date1    datetime64[ns]\n",
              "due_in_date              datetime64[ns]\n",
              "document type                    object\n",
              "total_open_amount               float64\n",
              "baseline_create_date              int64\n",
              "cust_payment_terms               object\n",
              "invoice_id                      float64\n",
              "isOpen                            int64\n",
              "delay                           float64\n",
              "dtype: object"
            ]
          },
          "metadata": {
            "tags": []
          },
          "execution_count": 163
        }
      ]
    },
    {
      "cell_type": "code",
      "metadata": {
        "id": "goF8Lg6K4JDC"
      },
      "source": [
        "#dropping cust_number\r\n",
        "data.drop('cust_number', axis=1, inplace=True)\r\n"
      ],
      "execution_count": 164,
      "outputs": []
    },
    {
      "cell_type": "code",
      "metadata": {
        "id": "rEhO_aFhYryO"
      },
      "source": [
        "#dropping cust_payment_terms\r\n",
        "data.drop('cust_payment_terms', axis=1, inplace=True)"
      ],
      "execution_count": 165,
      "outputs": []
    },
    {
      "cell_type": "code",
      "metadata": {
        "id": "iAnlneTlZCqI"
      },
      "source": [
        "#dropping document_type\r\n",
        "data.drop('document type', axis=1, inplace=True)"
      ],
      "execution_count": 166,
      "outputs": []
    },
    {
      "cell_type": "code",
      "metadata": {
        "id": "HzN2m1X_dxFq"
      },
      "source": [
        "#dropping total_open_amount\r\n",
        "data.drop('total_open_amount', axis=1, inplace=True)"
      ],
      "execution_count": 167,
      "outputs": []
    },
    {
      "cell_type": "code",
      "metadata": {
        "id": "AopCoOARykAq"
      },
      "source": [
        "#dropping posting date\r\n",
        "data.drop('posting_date', axis=1, inplace=True)"
      ],
      "execution_count": 168,
      "outputs": []
    },
    {
      "cell_type": "markdown",
      "metadata": {
        "id": "-NOdm75DMS35"
      },
      "source": [
        "Splitting the Dataset into Train set and test set on the basis of clear_date"
      ]
    },
    {
      "cell_type": "code",
      "metadata": {
        "id": "aFzOQ6yD7Cew"
      },
      "source": [
        "X_train= data[data['clear_date'].notnull()]\r\n",
        "\r\n",
        "X_test= data[data['clear_date'].isnull()]"
      ],
      "execution_count": 169,
      "outputs": []
    },
    {
      "cell_type": "code",
      "metadata": {
        "id": "EzHvzpW87R76"
      },
      "source": [
        "X_train = X_train.sort_values(by='document_create_date1')"
      ],
      "execution_count": 170,
      "outputs": []
    },
    {
      "cell_type": "code",
      "metadata": {
        "colab": {
          "base_uri": "https://localhost:8080/"
        },
        "id": "OUP73vGbnRMT",
        "outputId": "6ddfaac1-2c3c-4f1c-f656-02a5e8988d88"
      },
      "source": [
        "def correlation(dataset, threshold):\r\n",
        "    col_corr = set()  # Set of all the names of correlated columns\r\n",
        "    corr_matrix = dataset.corr()\r\n",
        "    for i in range(len(corr_matrix.columns)):\r\n",
        "        for j in range(i):\r\n",
        "            if abs(corr_matrix.iloc[i, j]) > threshold: # we are interested in absolute coeff value\r\n",
        "                colname = corr_matrix.columns[i]  # getting the name of column\r\n",
        "                col_corr.add(colname)\r\n",
        "    return col_corr\r\n",
        "\r\n",
        "corr_features = correlation(X_train, 0.8)\r\n",
        "\r\n",
        "print('correlated features: ', corr_features)"
      ],
      "execution_count": 171,
      "outputs": [
        {
          "output_type": "stream",
          "text": [
            "correlated features:  {'baseline_create_date', 'invoice_id'}\n"
          ],
          "name": "stdout"
        }
      ]
    },
    {
      "cell_type": "code",
      "metadata": {
        "colab": {
          "base_uri": "https://localhost:8080/",
          "height": 935
        },
        "id": "JdwEGTh67dX_",
        "outputId": "664218a4-4b4c-414d-a8fe-dd77b3fef9a3"
      },
      "source": [
        "X_train.head(30)"
      ],
      "execution_count": 172,
      "outputs": [
        {
          "output_type": "execute_result",
          "data": {
            "text/html": [
              "<div>\n",
              "<style scoped>\n",
              "    .dataframe tbody tr th:only-of-type {\n",
              "        vertical-align: middle;\n",
              "    }\n",
              "\n",
              "    .dataframe tbody tr th {\n",
              "        vertical-align: top;\n",
              "    }\n",
              "\n",
              "    .dataframe thead th {\n",
              "        text-align: right;\n",
              "    }\n",
              "</style>\n",
              "<table border=\"1\" class=\"dataframe\">\n",
              "  <thead>\n",
              "    <tr style=\"text-align: right;\">\n",
              "      <th></th>\n",
              "      <th>clear_date</th>\n",
              "      <th>buisness_year</th>\n",
              "      <th>doc_id</th>\n",
              "      <th>document_create_date1</th>\n",
              "      <th>due_in_date</th>\n",
              "      <th>baseline_create_date</th>\n",
              "      <th>invoice_id</th>\n",
              "      <th>isOpen</th>\n",
              "      <th>delay</th>\n",
              "    </tr>\n",
              "  </thead>\n",
              "  <tbody>\n",
              "    <tr>\n",
              "      <th>390</th>\n",
              "      <td>2019-12-27</td>\n",
              "      <td>2019</td>\n",
              "      <td>9500000065</td>\n",
              "      <td>2018-11-20</td>\n",
              "      <td>2018-11-30</td>\n",
              "      <td>20181120</td>\n",
              "      <td>NaN</td>\n",
              "      <td>0</td>\n",
              "      <td>392.0</td>\n",
              "    </tr>\n",
              "    <tr>\n",
              "      <th>8256</th>\n",
              "      <td>2019-12-27</td>\n",
              "      <td>2019</td>\n",
              "      <td>9500000067</td>\n",
              "      <td>2018-12-04</td>\n",
              "      <td>2018-12-14</td>\n",
              "      <td>20181204</td>\n",
              "      <td>NaN</td>\n",
              "      <td>0</td>\n",
              "      <td>378.0</td>\n",
              "    </tr>\n",
              "    <tr>\n",
              "      <th>15719</th>\n",
              "      <td>2019-01-15</td>\n",
              "      <td>2019</td>\n",
              "      <td>1928541234</td>\n",
              "      <td>2018-12-30</td>\n",
              "      <td>2019-01-14</td>\n",
              "      <td>20181230</td>\n",
              "      <td>1.928541e+09</td>\n",
              "      <td>0</td>\n",
              "      <td>1.0</td>\n",
              "    </tr>\n",
              "    <tr>\n",
              "      <th>14672</th>\n",
              "      <td>2019-10-01</td>\n",
              "      <td>2019</td>\n",
              "      <td>1928539666</td>\n",
              "      <td>2018-12-30</td>\n",
              "      <td>2019-01-14</td>\n",
              "      <td>20181230</td>\n",
              "      <td>1.928540e+09</td>\n",
              "      <td>0</td>\n",
              "      <td>260.0</td>\n",
              "    </tr>\n",
              "    <tr>\n",
              "      <th>6129</th>\n",
              "      <td>2019-09-01</td>\n",
              "      <td>2019</td>\n",
              "      <td>1928516217</td>\n",
              "      <td>2018-12-30</td>\n",
              "      <td>2019-01-14</td>\n",
              "      <td>20181230</td>\n",
              "      <td>1.928516e+09</td>\n",
              "      <td>0</td>\n",
              "      <td>230.0</td>\n",
              "    </tr>\n",
              "    <tr>\n",
              "      <th>19370</th>\n",
              "      <td>2019-09-01</td>\n",
              "      <td>2019</td>\n",
              "      <td>1928538576</td>\n",
              "      <td>2018-12-30</td>\n",
              "      <td>2019-01-14</td>\n",
              "      <td>20181230</td>\n",
              "      <td>1.928539e+09</td>\n",
              "      <td>0</td>\n",
              "      <td>230.0</td>\n",
              "    </tr>\n",
              "    <tr>\n",
              "      <th>34983</th>\n",
              "      <td>2019-11-01</td>\n",
              "      <td>2019</td>\n",
              "      <td>1928539722</td>\n",
              "      <td>2018-12-30</td>\n",
              "      <td>2019-01-14</td>\n",
              "      <td>20181230</td>\n",
              "      <td>1.928540e+09</td>\n",
              "      <td>0</td>\n",
              "      <td>291.0</td>\n",
              "    </tr>\n",
              "    <tr>\n",
              "      <th>34944</th>\n",
              "      <td>2019-01-15</td>\n",
              "      <td>2019</td>\n",
              "      <td>1928539311</td>\n",
              "      <td>2018-12-30</td>\n",
              "      <td>2019-01-14</td>\n",
              "      <td>20181230</td>\n",
              "      <td>1.928539e+09</td>\n",
              "      <td>0</td>\n",
              "      <td>1.0</td>\n",
              "    </tr>\n",
              "    <tr>\n",
              "      <th>21548</th>\n",
              "      <td>2019-09-01</td>\n",
              "      <td>2019</td>\n",
              "      <td>1928541355</td>\n",
              "      <td>2018-12-30</td>\n",
              "      <td>2019-01-14</td>\n",
              "      <td>20181230</td>\n",
              "      <td>1.928541e+09</td>\n",
              "      <td>0</td>\n",
              "      <td>230.0</td>\n",
              "    </tr>\n",
              "    <tr>\n",
              "      <th>29520</th>\n",
              "      <td>2019-09-01</td>\n",
              "      <td>2019</td>\n",
              "      <td>1928537307</td>\n",
              "      <td>2018-12-30</td>\n",
              "      <td>2019-01-14</td>\n",
              "      <td>20181230</td>\n",
              "      <td>1.928537e+09</td>\n",
              "      <td>0</td>\n",
              "      <td>230.0</td>\n",
              "    </tr>\n",
              "    <tr>\n",
              "      <th>29525</th>\n",
              "      <td>2019-01-18</td>\n",
              "      <td>2019</td>\n",
              "      <td>1928540982</td>\n",
              "      <td>2018-12-30</td>\n",
              "      <td>2019-01-14</td>\n",
              "      <td>20181230</td>\n",
              "      <td>1.928541e+09</td>\n",
              "      <td>0</td>\n",
              "      <td>4.0</td>\n",
              "    </tr>\n",
              "    <tr>\n",
              "      <th>19052</th>\n",
              "      <td>2019-01-15</td>\n",
              "      <td>2019</td>\n",
              "      <td>1928538466</td>\n",
              "      <td>2018-12-30</td>\n",
              "      <td>2019-01-14</td>\n",
              "      <td>20181230</td>\n",
              "      <td>1.928538e+09</td>\n",
              "      <td>0</td>\n",
              "      <td>1.0</td>\n",
              "    </tr>\n",
              "    <tr>\n",
              "      <th>4399</th>\n",
              "      <td>2019-01-14</td>\n",
              "      <td>2019</td>\n",
              "      <td>1928541220</td>\n",
              "      <td>2018-12-30</td>\n",
              "      <td>2019-01-14</td>\n",
              "      <td>20181230</td>\n",
              "      <td>1.928541e+09</td>\n",
              "      <td>0</td>\n",
              "      <td>0.0</td>\n",
              "    </tr>\n",
              "    <tr>\n",
              "      <th>30022</th>\n",
              "      <td>2019-11-01</td>\n",
              "      <td>2019</td>\n",
              "      <td>1928542652</td>\n",
              "      <td>2018-12-30</td>\n",
              "      <td>2019-01-14</td>\n",
              "      <td>20181230</td>\n",
              "      <td>1.928543e+09</td>\n",
              "      <td>0</td>\n",
              "      <td>291.0</td>\n",
              "    </tr>\n",
              "    <tr>\n",
              "      <th>8859</th>\n",
              "      <td>2019-09-01</td>\n",
              "      <td>2019</td>\n",
              "      <td>1928535906</td>\n",
              "      <td>2018-12-30</td>\n",
              "      <td>2019-01-14</td>\n",
              "      <td>20181230</td>\n",
              "      <td>1.928536e+09</td>\n",
              "      <td>0</td>\n",
              "      <td>230.0</td>\n",
              "    </tr>\n",
              "    <tr>\n",
              "      <th>40696</th>\n",
              "      <td>2019-09-01</td>\n",
              "      <td>2019</td>\n",
              "      <td>1928534353</td>\n",
              "      <td>2018-12-30</td>\n",
              "      <td>2019-01-14</td>\n",
              "      <td>20181230</td>\n",
              "      <td>1.928534e+09</td>\n",
              "      <td>0</td>\n",
              "      <td>230.0</td>\n",
              "    </tr>\n",
              "    <tr>\n",
              "      <th>44831</th>\n",
              "      <td>2019-10-01</td>\n",
              "      <td>2019</td>\n",
              "      <td>1928498999</td>\n",
              "      <td>2018-12-30</td>\n",
              "      <td>2019-01-14</td>\n",
              "      <td>20181230</td>\n",
              "      <td>1.928499e+09</td>\n",
              "      <td>0</td>\n",
              "      <td>260.0</td>\n",
              "    </tr>\n",
              "    <tr>\n",
              "      <th>27951</th>\n",
              "      <td>2019-01-17</td>\n",
              "      <td>2019</td>\n",
              "      <td>1928533116</td>\n",
              "      <td>2018-12-30</td>\n",
              "      <td>2019-01-14</td>\n",
              "      <td>20181230</td>\n",
              "      <td>1.928533e+09</td>\n",
              "      <td>0</td>\n",
              "      <td>3.0</td>\n",
              "    </tr>\n",
              "    <tr>\n",
              "      <th>19589</th>\n",
              "      <td>2019-01-14</td>\n",
              "      <td>2019</td>\n",
              "      <td>1928536722</td>\n",
              "      <td>2018-12-30</td>\n",
              "      <td>2019-01-14</td>\n",
              "      <td>20181230</td>\n",
              "      <td>1.928537e+09</td>\n",
              "      <td>0</td>\n",
              "      <td>0.0</td>\n",
              "    </tr>\n",
              "    <tr>\n",
              "      <th>19642</th>\n",
              "      <td>2019-01-14</td>\n",
              "      <td>2019</td>\n",
              "      <td>1928541051</td>\n",
              "      <td>2018-12-30</td>\n",
              "      <td>2019-01-14</td>\n",
              "      <td>20181230</td>\n",
              "      <td>1.928541e+09</td>\n",
              "      <td>0</td>\n",
              "      <td>0.0</td>\n",
              "    </tr>\n",
              "    <tr>\n",
              "      <th>14576</th>\n",
              "      <td>2019-11-01</td>\n",
              "      <td>2019</td>\n",
              "      <td>1928544316</td>\n",
              "      <td>2018-12-30</td>\n",
              "      <td>2019-01-14</td>\n",
              "      <td>20181230</td>\n",
              "      <td>1.928544e+09</td>\n",
              "      <td>0</td>\n",
              "      <td>291.0</td>\n",
              "    </tr>\n",
              "    <tr>\n",
              "      <th>10408</th>\n",
              "      <td>2019-01-15</td>\n",
              "      <td>2019</td>\n",
              "      <td>1928541031</td>\n",
              "      <td>2018-12-30</td>\n",
              "      <td>2019-01-14</td>\n",
              "      <td>20181230</td>\n",
              "      <td>1.928541e+09</td>\n",
              "      <td>0</td>\n",
              "      <td>1.0</td>\n",
              "    </tr>\n",
              "    <tr>\n",
              "      <th>2501</th>\n",
              "      <td>2019-09-01</td>\n",
              "      <td>2019</td>\n",
              "      <td>1928539492</td>\n",
              "      <td>2018-12-30</td>\n",
              "      <td>2019-01-14</td>\n",
              "      <td>20181230</td>\n",
              "      <td>1.928539e+09</td>\n",
              "      <td>0</td>\n",
              "      <td>230.0</td>\n",
              "    </tr>\n",
              "    <tr>\n",
              "      <th>2431</th>\n",
              "      <td>2019-09-01</td>\n",
              "      <td>2019</td>\n",
              "      <td>1928540021</td>\n",
              "      <td>2018-12-30</td>\n",
              "      <td>2019-01-14</td>\n",
              "      <td>20181230</td>\n",
              "      <td>1.928540e+09</td>\n",
              "      <td>0</td>\n",
              "      <td>230.0</td>\n",
              "    </tr>\n",
              "    <tr>\n",
              "      <th>26349</th>\n",
              "      <td>2019-09-01</td>\n",
              "      <td>2019</td>\n",
              "      <td>1928538483</td>\n",
              "      <td>2018-12-30</td>\n",
              "      <td>2019-01-14</td>\n",
              "      <td>20181230</td>\n",
              "      <td>1.928538e+09</td>\n",
              "      <td>0</td>\n",
              "      <td>230.0</td>\n",
              "    </tr>\n",
              "    <tr>\n",
              "      <th>20129</th>\n",
              "      <td>2019-01-15</td>\n",
              "      <td>2019</td>\n",
              "      <td>1928538212</td>\n",
              "      <td>2018-12-30</td>\n",
              "      <td>2019-01-14</td>\n",
              "      <td>20181230</td>\n",
              "      <td>1.928538e+09</td>\n",
              "      <td>0</td>\n",
              "      <td>1.0</td>\n",
              "    </tr>\n",
              "    <tr>\n",
              "      <th>41996</th>\n",
              "      <td>2019-10-01</td>\n",
              "      <td>2019</td>\n",
              "      <td>1928542614</td>\n",
              "      <td>2018-12-30</td>\n",
              "      <td>2019-01-14</td>\n",
              "      <td>20181230</td>\n",
              "      <td>1.928543e+09</td>\n",
              "      <td>0</td>\n",
              "      <td>260.0</td>\n",
              "    </tr>\n",
              "    <tr>\n",
              "      <th>11057</th>\n",
              "      <td>2019-10-01</td>\n",
              "      <td>2019</td>\n",
              "      <td>1928543622</td>\n",
              "      <td>2018-12-30</td>\n",
              "      <td>2019-01-14</td>\n",
              "      <td>20181230</td>\n",
              "      <td>1.928544e+09</td>\n",
              "      <td>0</td>\n",
              "      <td>260.0</td>\n",
              "    </tr>\n",
              "    <tr>\n",
              "      <th>14235</th>\n",
              "      <td>2019-09-01</td>\n",
              "      <td>2019</td>\n",
              "      <td>1928539935</td>\n",
              "      <td>2018-12-30</td>\n",
              "      <td>2019-01-14</td>\n",
              "      <td>20181230</td>\n",
              "      <td>1.928540e+09</td>\n",
              "      <td>0</td>\n",
              "      <td>230.0</td>\n",
              "    </tr>\n",
              "    <tr>\n",
              "      <th>37631</th>\n",
              "      <td>2019-01-14</td>\n",
              "      <td>2019</td>\n",
              "      <td>1928541281</td>\n",
              "      <td>2018-12-30</td>\n",
              "      <td>2019-01-14</td>\n",
              "      <td>20181230</td>\n",
              "      <td>1.928541e+09</td>\n",
              "      <td>0</td>\n",
              "      <td>0.0</td>\n",
              "    </tr>\n",
              "  </tbody>\n",
              "</table>\n",
              "</div>"
            ],
            "text/plain": [
              "      clear_date  buisness_year      doc_id  ...    invoice_id isOpen  delay\n",
              "390   2019-12-27           2019  9500000065  ...           NaN      0  392.0\n",
              "8256  2019-12-27           2019  9500000067  ...           NaN      0  378.0\n",
              "15719 2019-01-15           2019  1928541234  ...  1.928541e+09      0    1.0\n",
              "14672 2019-10-01           2019  1928539666  ...  1.928540e+09      0  260.0\n",
              "6129  2019-09-01           2019  1928516217  ...  1.928516e+09      0  230.0\n",
              "19370 2019-09-01           2019  1928538576  ...  1.928539e+09      0  230.0\n",
              "34983 2019-11-01           2019  1928539722  ...  1.928540e+09      0  291.0\n",
              "34944 2019-01-15           2019  1928539311  ...  1.928539e+09      0    1.0\n",
              "21548 2019-09-01           2019  1928541355  ...  1.928541e+09      0  230.0\n",
              "29520 2019-09-01           2019  1928537307  ...  1.928537e+09      0  230.0\n",
              "29525 2019-01-18           2019  1928540982  ...  1.928541e+09      0    4.0\n",
              "19052 2019-01-15           2019  1928538466  ...  1.928538e+09      0    1.0\n",
              "4399  2019-01-14           2019  1928541220  ...  1.928541e+09      0    0.0\n",
              "30022 2019-11-01           2019  1928542652  ...  1.928543e+09      0  291.0\n",
              "8859  2019-09-01           2019  1928535906  ...  1.928536e+09      0  230.0\n",
              "40696 2019-09-01           2019  1928534353  ...  1.928534e+09      0  230.0\n",
              "44831 2019-10-01           2019  1928498999  ...  1.928499e+09      0  260.0\n",
              "27951 2019-01-17           2019  1928533116  ...  1.928533e+09      0    3.0\n",
              "19589 2019-01-14           2019  1928536722  ...  1.928537e+09      0    0.0\n",
              "19642 2019-01-14           2019  1928541051  ...  1.928541e+09      0    0.0\n",
              "14576 2019-11-01           2019  1928544316  ...  1.928544e+09      0  291.0\n",
              "10408 2019-01-15           2019  1928541031  ...  1.928541e+09      0    1.0\n",
              "2501  2019-09-01           2019  1928539492  ...  1.928539e+09      0  230.0\n",
              "2431  2019-09-01           2019  1928540021  ...  1.928540e+09      0  230.0\n",
              "26349 2019-09-01           2019  1928538483  ...  1.928538e+09      0  230.0\n",
              "20129 2019-01-15           2019  1928538212  ...  1.928538e+09      0    1.0\n",
              "41996 2019-10-01           2019  1928542614  ...  1.928543e+09      0  260.0\n",
              "11057 2019-10-01           2019  1928543622  ...  1.928544e+09      0  260.0\n",
              "14235 2019-09-01           2019  1928539935  ...  1.928540e+09      0  230.0\n",
              "37631 2019-01-14           2019  1928541281  ...  1.928541e+09      0    0.0\n",
              "\n",
              "[30 rows x 9 columns]"
            ]
          },
          "metadata": {
            "tags": []
          },
          "execution_count": 172
        }
      ]
    },
    {
      "cell_type": "code",
      "metadata": {
        "colab": {
          "base_uri": "https://localhost:8080/"
        },
        "id": "ULqixyjZAmIU",
        "outputId": "bb95f596-3c6b-44e6-8a6e-17f5069d9d75"
      },
      "source": [
        "X_train.isna().sum()"
      ],
      "execution_count": 173,
      "outputs": [
        {
          "output_type": "execute_result",
          "data": {
            "text/plain": [
              "clear_date               0\n",
              "buisness_year            0\n",
              "doc_id                   0\n",
              "document_create_date1    0\n",
              "due_in_date              0\n",
              "baseline_create_date     0\n",
              "invoice_id               5\n",
              "isOpen                   0\n",
              "delay                    0\n",
              "dtype: int64"
            ]
          },
          "metadata": {
            "tags": []
          },
          "execution_count": 173
        }
      ]
    },
    {
      "cell_type": "code",
      "metadata": {
        "id": "hJBxxXWWAz4v"
      },
      "source": [
        "#Conversion of datetime objects as it can't be fed to model\r\n",
        "X_train['clear_date']=pd.to_numeric(X_train['clear_date'])\r\n"
      ],
      "execution_count": 174,
      "outputs": []
    },
    {
      "cell_type": "code",
      "metadata": {
        "id": "n7Kd_dlXDZfP"
      },
      "source": [
        "X_train['due_in_date']=pd.to_numeric(X_train['due_in_date'])\r\n"
      ],
      "execution_count": 175,
      "outputs": []
    },
    {
      "cell_type": "code",
      "metadata": {
        "colab": {
          "base_uri": "https://localhost:8080/"
        },
        "id": "Uvh4_bR2wR0R",
        "outputId": "3efad04a-1837-4c80-a108-31649a2a8807"
      },
      "source": [
        "X_train['document_create_date1']=pd.to_numeric(X_train['document_create_date1'])\r\n",
        "X_train.dtypes"
      ],
      "execution_count": 176,
      "outputs": [
        {
          "output_type": "execute_result",
          "data": {
            "text/plain": [
              "clear_date                 int64\n",
              "buisness_year              int64\n",
              "doc_id                     int64\n",
              "document_create_date1      int64\n",
              "due_in_date                int64\n",
              "baseline_create_date       int64\n",
              "invoice_id               float64\n",
              "isOpen                     int64\n",
              "delay                    float64\n",
              "dtype: object"
            ]
          },
          "metadata": {
            "tags": []
          },
          "execution_count": 176
        }
      ]
    },
    {
      "cell_type": "code",
      "metadata": {
        "id": "kZJcuQgslUqZ"
      },
      "source": [
        "#dropping invoive_id\r\n",
        "X_train.drop('invoice_id', axis=1, inplace=True)"
      ],
      "execution_count": 177,
      "outputs": []
    },
    {
      "cell_type": "code",
      "metadata": {
        "colab": {
          "base_uri": "https://localhost:8080/"
        },
        "id": "O3a5c-MDIogw",
        "outputId": "5f43a466-c3ad-4497-83b8-242487ee2504"
      },
      "source": [
        "X_test.drop('invoice_id', axis=1, inplace=True)"
      ],
      "execution_count": 178,
      "outputs": [
        {
          "output_type": "stream",
          "text": [
            "/usr/local/lib/python3.6/dist-packages/pandas/core/frame.py:4174: SettingWithCopyWarning: \n",
            "A value is trying to be set on a copy of a slice from a DataFrame\n",
            "\n",
            "See the caveats in the documentation: https://pandas.pydata.org/pandas-docs/stable/user_guide/indexing.html#returning-a-view-versus-a-copy\n",
            "  errors=errors,\n"
          ],
          "name": "stderr"
        }
      ]
    },
    {
      "cell_type": "code",
      "metadata": {
        "id": "XSrb1XglbA9B"
      },
      "source": [
        "#traget variable\r\n",
        "y_train=X_train['delay']\r\n"
      ],
      "execution_count": 179,
      "outputs": []
    },
    {
      "cell_type": "code",
      "metadata": {
        "id": "Om1NsqEtW00c"
      },
      "source": [
        "X_train.drop('delay', axis=1, inplace=True)"
      ],
      "execution_count": 180,
      "outputs": []
    },
    {
      "cell_type": "code",
      "metadata": {
        "colab": {
          "base_uri": "https://localhost:8080/"
        },
        "id": "hVfpwWFCNTXP",
        "outputId": "6854b786-2a33-4656-d4ca-e9f5364fa025"
      },
      "source": [
        "y_train.shape"
      ],
      "execution_count": 181,
      "outputs": [
        {
          "output_type": "execute_result",
          "data": {
            "text/plain": [
              "(46238,)"
            ]
          },
          "metadata": {
            "tags": []
          },
          "execution_count": 181
        }
      ]
    },
    {
      "cell_type": "code",
      "metadata": {
        "colab": {
          "base_uri": "https://localhost:8080/"
        },
        "id": "vaP05i-nzzoG",
        "outputId": "9e633f13-1401-45cd-eca8-506c5ad4df09"
      },
      "source": [
        "X_test.dtypes"
      ],
      "execution_count": 182,
      "outputs": [
        {
          "output_type": "execute_result",
          "data": {
            "text/plain": [
              "clear_date               datetime64[ns]\n",
              "buisness_year                     int64\n",
              "doc_id                            int64\n",
              "document_create_date1    datetime64[ns]\n",
              "due_in_date              datetime64[ns]\n",
              "baseline_create_date              int64\n",
              "isOpen                            int64\n",
              "delay                           float64\n",
              "dtype: object"
            ]
          },
          "metadata": {
            "tags": []
          },
          "execution_count": 182
        }
      ]
    },
    {
      "cell_type": "code",
      "metadata": {
        "colab": {
          "base_uri": "https://localhost:8080/"
        },
        "id": "Dzoyc8iUY_pS",
        "outputId": "20fd10e8-8094-4bd2-efd3-4e6f88594c07"
      },
      "source": [
        "X_train.shape"
      ],
      "execution_count": 183,
      "outputs": [
        {
          "output_type": "execute_result",
          "data": {
            "text/plain": [
              "(46238, 7)"
            ]
          },
          "metadata": {
            "tags": []
          },
          "execution_count": 183
        }
      ]
    },
    {
      "cell_type": "code",
      "metadata": {
        "colab": {
          "base_uri": "https://localhost:8080/"
        },
        "id": "TmKRKcZQ0BVW",
        "outputId": "98bb0cdf-262d-43d7-d3a9-3a10d5ba76fe"
      },
      "source": [
        "#changing datetime objects in test set\r\n",
        "X_test['clear_date']=pd.to_numeric(X_test['clear_date'])"
      ],
      "execution_count": 184,
      "outputs": [
        {
          "output_type": "stream",
          "text": [
            "/usr/local/lib/python3.6/dist-packages/ipykernel_launcher.py:2: SettingWithCopyWarning: \n",
            "A value is trying to be set on a copy of a slice from a DataFrame.\n",
            "Try using .loc[row_indexer,col_indexer] = value instead\n",
            "\n",
            "See the caveats in the documentation: https://pandas.pydata.org/pandas-docs/stable/user_guide/indexing.html#returning-a-view-versus-a-copy\n",
            "  \n"
          ],
          "name": "stderr"
        }
      ]
    },
    {
      "cell_type": "code",
      "metadata": {
        "colab": {
          "base_uri": "https://localhost:8080/"
        },
        "id": "oR4utNgQ0vKC",
        "outputId": "f60891ce-fb4e-4966-d955-b6b7f7b1e680"
      },
      "source": [
        "#converting to numeric because datetime object cannot be fed to model\r\n",
        "X_test['document_create_date1']=pd.to_numeric(X_test['document_create_date1'])"
      ],
      "execution_count": 185,
      "outputs": [
        {
          "output_type": "stream",
          "text": [
            "/usr/local/lib/python3.6/dist-packages/ipykernel_launcher.py:2: SettingWithCopyWarning: \n",
            "A value is trying to be set on a copy of a slice from a DataFrame.\n",
            "Try using .loc[row_indexer,col_indexer] = value instead\n",
            "\n",
            "See the caveats in the documentation: https://pandas.pydata.org/pandas-docs/stable/user_guide/indexing.html#returning-a-view-versus-a-copy\n",
            "  \n"
          ],
          "name": "stderr"
        }
      ]
    },
    {
      "cell_type": "code",
      "metadata": {
        "colab": {
          "base_uri": "https://localhost:8080/"
        },
        "id": "uVrze37k1ILW",
        "outputId": "ca0156e4-41ff-4472-b605-555b3a70302a"
      },
      "source": [
        "#converting to numeric because datetime object cannot be fed to model\r\n",
        "X_test['due_in_date']=pd.to_numeric(X_test['due_in_date'])"
      ],
      "execution_count": 186,
      "outputs": [
        {
          "output_type": "stream",
          "text": [
            "/usr/local/lib/python3.6/dist-packages/ipykernel_launcher.py:2: SettingWithCopyWarning: \n",
            "A value is trying to be set on a copy of a slice from a DataFrame.\n",
            "Try using .loc[row_indexer,col_indexer] = value instead\n",
            "\n",
            "See the caveats in the documentation: https://pandas.pydata.org/pandas-docs/stable/user_guide/indexing.html#returning-a-view-versus-a-copy\n",
            "  \n"
          ],
          "name": "stderr"
        }
      ]
    },
    {
      "cell_type": "code",
      "metadata": {
        "colab": {
          "base_uri": "https://localhost:8080/"
        },
        "id": "zVROIeZH1XwA",
        "outputId": "7ea4c131-5e7f-49dd-87c7-ca33ee9c959f"
      },
      "source": [
        "X_test.dtypes"
      ],
      "execution_count": 187,
      "outputs": [
        {
          "output_type": "execute_result",
          "data": {
            "text/plain": [
              "clear_date                 int64\n",
              "buisness_year              int64\n",
              "doc_id                     int64\n",
              "document_create_date1      int64\n",
              "due_in_date                int64\n",
              "baseline_create_date       int64\n",
              "isOpen                     int64\n",
              "delay                    float64\n",
              "dtype: object"
            ]
          },
          "metadata": {
            "tags": []
          },
          "execution_count": 187
        }
      ]
    },
    {
      "cell_type": "code",
      "metadata": {
        "colab": {
          "base_uri": "https://localhost:8080/"
        },
        "id": "rhCO8jld2LDq",
        "outputId": "2215b657-b969-49a5-ad32-d34a424c2a08"
      },
      "source": [
        "X_test.isna().sum()"
      ],
      "execution_count": 188,
      "outputs": [
        {
          "output_type": "execute_result",
          "data": {
            "text/plain": [
              "clear_date                  0\n",
              "buisness_year               0\n",
              "doc_id                      0\n",
              "document_create_date1       0\n",
              "due_in_date                 0\n",
              "baseline_create_date        0\n",
              "isOpen                      0\n",
              "delay                    3762\n",
              "dtype: int64"
            ]
          },
          "metadata": {
            "tags": []
          },
          "execution_count": 188
        }
      ]
    },
    {
      "cell_type": "markdown",
      "metadata": {
        "id": "g1h4VuyJ0vpL"
      },
      "source": [
        "Splitting the train set into 2 validation set"
      ]
    },
    {
      "cell_type": "code",
      "metadata": {
        "id": "B3IttK0vtZxl"
      },
      "source": [
        "x_train, X_valid, y_train, y_valid = train_test_split(X_train, y_train, test_size= .20, shuffle=False, random_state=1)\r\n",
        "X_valid1, X_valid2, y_valid1, y_valid2 = train_test_split(X_valid, y_valid, test_size=.50, shuffle=False, random_state=1)"
      ],
      "execution_count": 189,
      "outputs": []
    },
    {
      "cell_type": "code",
      "metadata": {
        "id": "_nBnzTVvzVDV"
      },
      "source": [
        "# Defining Lists to Store in the Results and Names of Algorithms\r\n",
        "MSE_Score = []\r\n",
        "R2_Score = []\r\n",
        "Algorithm = []"
      ],
      "execution_count": 190,
      "outputs": []
    },
    {
      "cell_type": "markdown",
      "metadata": {
        "id": "rLjwXao-06K_"
      },
      "source": [
        "Using random forest regressor"
      ]
    },
    {
      "cell_type": "code",
      "metadata": {
        "id": "n9m7eCfMwkxY"
      },
      "source": [
        "# Fitting Random Forest Regressor Tree to the Training Set\r\n",
        "Algorithm.append('Random Forest Regressor')\r\n",
        "clf = RandomForestRegressor()\r\n",
        "clf.fit(x_train, y_train)\r\n",
        "\r\n",
        "# Predicting the Test Set Results\r\n",
        "predicted = clf.predict(x_train)"
      ],
      "execution_count": 191,
      "outputs": []
    },
    {
      "cell_type": "code",
      "metadata": {
        "id": "VHDq5AJby_fP"
      },
      "source": [
        "# Appending the Scores For Visualisation at a Later Part\r\n",
        "MSE_Score.append(mean_squared_error(y_train, predicted))\r\n",
        "R2_Score.append(r2_score(y_train, predicted))"
      ],
      "execution_count": 192,
      "outputs": []
    },
    {
      "cell_type": "code",
      "metadata": {
        "id": "D4sBZglxzJn-"
      },
      "source": [
        "# Fitting Random Forest Regressor Tree to the Training Set\r\n",
        "Algorithm.append('Random Forest Regressor')\r\n",
        "clf = RandomForestRegressor()\r\n",
        "clf.fit(x_train, y_train)\r\n",
        "\r\n",
        "# Predicting the Test Set Results\r\n",
        "predicted = clf.predict(X_valid1)"
      ],
      "execution_count": 193,
      "outputs": []
    },
    {
      "cell_type": "code",
      "metadata": {
        "id": "AzFBHatZz4Rq"
      },
      "source": [
        "# Appending the Scores For Visualisation at a Later Part\r\n",
        "MSE_Score.append(mean_squared_error(y_valid1, predicted))\r\n",
        "R2_Score.append(r2_score(y_valid1, predicted))"
      ],
      "execution_count": 194,
      "outputs": []
    },
    {
      "cell_type": "code",
      "metadata": {
        "id": "Ji0juG-80MZ-"
      },
      "source": [
        "# Fitting Random Forest Regressor Tree to the Training Set\r\n",
        "Algorithm.append('Random Forest Regressor')\r\n",
        "clf = RandomForestRegressor()\r\n",
        "clf.fit(x_train, y_train)\r\n",
        "\r\n",
        "# Predicting the Test Set Results\r\n",
        "predicted = clf.predict(X_valid2)"
      ],
      "execution_count": 195,
      "outputs": []
    },
    {
      "cell_type": "code",
      "metadata": {
        "id": "AmeSLtjA0Qp4"
      },
      "source": [
        "# Appending the Scores For Visualisation at a Later Part\r\n",
        "MSE_Score.append(mean_squared_error(y_valid2, predicted))\r\n",
        "R2_Score.append(r2_score(y_valid2, predicted))\r\n"
      ],
      "execution_count": 196,
      "outputs": []
    },
    {
      "cell_type": "markdown",
      "metadata": {
        "id": "awZLRZIuPRsl"
      },
      "source": [
        "Linear regression"
      ]
    },
    {
      "cell_type": "code",
      "metadata": {
        "id": "_E7jUXoqK6eE"
      },
      "source": [
        "# Fitting Simple Linear Regression to the Training Set\r\n",
        "Algorithm.append('Linear Regression')\r\n",
        "clf = LinearRegression()\r\n",
        "clf.fit(x_train, y_train)\r\n",
        "\r\n",
        "# Predicting the Test Set Results\r\n",
        "predicted = clf.predict(x_train)"
      ],
      "execution_count": 197,
      "outputs": []
    },
    {
      "cell_type": "code",
      "metadata": {
        "id": "lfPHV6l9LTRc"
      },
      "source": [
        "# Appending the Scores For Visualisation at a Later Part\r\n",
        "MSE_Score.append(mean_squared_error(y_train, predicted))\r\n",
        "R2_Score.append(r2_score(y_train, predicted))"
      ],
      "execution_count": 198,
      "outputs": []
    },
    {
      "cell_type": "code",
      "metadata": {
        "id": "3otEQMdIL5Xe"
      },
      "source": [
        "# Fitting Simple Linear Regression to the validation set1\r\n",
        "Algorithm.append('Linear Regression')\r\n",
        "clf = LinearRegression()\r\n",
        "clf.fit(x_train, y_train)\r\n",
        "\r\n",
        "# Predicting the Test Set Results\r\n",
        "predicted = clf.predict(X_valid1)"
      ],
      "execution_count": 199,
      "outputs": []
    },
    {
      "cell_type": "code",
      "metadata": {
        "id": "9Pa4cZnoMC4h"
      },
      "source": [
        "# Appending the Scores For Visualisation at a Later Part\r\n",
        "MSE_Score.append(mean_squared_error(y_valid1, predicted))\r\n",
        "R2_Score.append(r2_score(y_valid1, predicted))\r\n"
      ],
      "execution_count": 200,
      "outputs": []
    },
    {
      "cell_type": "code",
      "metadata": {
        "id": "on89UBaKz__p"
      },
      "source": [
        "# Fitting Simple Linear Regression to the validation set1\r\n",
        "Algorithm.append('Linear Regression')\r\n",
        "clf = LinearRegression()\r\n",
        "clf.fit(x_train, y_train)\r\n",
        "\r\n",
        "# Predicting the Test Set Results\r\n",
        "predicted = clf.predict(X_valid2)"
      ],
      "execution_count": 201,
      "outputs": []
    },
    {
      "cell_type": "code",
      "metadata": {
        "id": "JPAD83RB0DLT"
      },
      "source": [
        "# Appending the Scores For Visualisation at a Later Part\r\n",
        "MSE_Score.append(mean_squared_error(y_valid2, predicted))\r\n",
        "R2_Score.append(r2_score(y_valid2, predicted))\r\n"
      ],
      "execution_count": 202,
      "outputs": []
    },
    {
      "cell_type": "markdown",
      "metadata": {
        "id": "_kiatSMg3XKJ"
      },
      "source": [
        "XGB regressor"
      ]
    },
    {
      "cell_type": "code",
      "metadata": {
        "colab": {
          "base_uri": "https://localhost:8080/"
        },
        "id": "W4zoNZy41xDL",
        "outputId": "22a3f7d6-90d1-4846-c2c6-a81707d131ba"
      },
      "source": [
        "# Fitting XGBoost Regressor to the Training Set\r\n",
        "Algorithm.append('XGB Regressor')\r\n",
        "clf = xgb.XGBRegressor()\r\n",
        "clf.fit(x_train, y_train)\r\n",
        "\r\n",
        "# Predicting the Test Set Results\r\n",
        "predicted = clf.predict(x_train)"
      ],
      "execution_count": 203,
      "outputs": [
        {
          "output_type": "stream",
          "text": [
            "[06:58:17] WARNING: /workspace/src/objective/regression_obj.cu:152: reg:linear is now deprecated in favor of reg:squarederror.\n"
          ],
          "name": "stdout"
        }
      ]
    },
    {
      "cell_type": "code",
      "metadata": {
        "id": "2YmVF5Lz2BOz"
      },
      "source": [
        "# Appending the Scores For Visualisation at a Later Part\r\n",
        "MSE_Score.append(mean_squared_error(y_train, predicted))\r\n",
        "R2_Score.append(r2_score(y_train, predicted))"
      ],
      "execution_count": 204,
      "outputs": []
    },
    {
      "cell_type": "code",
      "metadata": {
        "colab": {
          "base_uri": "https://localhost:8080/"
        },
        "id": "-IzP22DV2EIV",
        "outputId": "4c532123-5a8d-4b45-e945-95ee1ddd85e3"
      },
      "source": [
        "# Fitting XGBoost Regressor to the validation Set1\r\n",
        "Algorithm.append('XGB Regressor')\r\n",
        "clf = xgb.XGBRegressor()\r\n",
        "clf.fit(x_train, y_train)\r\n",
        "\r\n",
        "# Predicting the Test Set Results\r\n",
        "predicted = clf.predict(X_valid1)"
      ],
      "execution_count": 205,
      "outputs": [
        {
          "output_type": "stream",
          "text": [
            "[06:58:19] WARNING: /workspace/src/objective/regression_obj.cu:152: reg:linear is now deprecated in favor of reg:squarederror.\n"
          ],
          "name": "stdout"
        }
      ]
    },
    {
      "cell_type": "code",
      "metadata": {
        "id": "0tuVV3U_2Sat"
      },
      "source": [
        "# Appending the Scores For Visualisation at a Later Part\r\n",
        "MSE_Score.append(mean_squared_error(y_valid1, predicted))\r\n",
        "R2_Score.append(r2_score(y_valid1, predicted))\r\n"
      ],
      "execution_count": 206,
      "outputs": []
    },
    {
      "cell_type": "code",
      "metadata": {
        "colab": {
          "base_uri": "https://localhost:8080/"
        },
        "id": "iTy4GRmg2YDp",
        "outputId": "c5a25e2e-b1f5-4c77-e098-4cf786cac125"
      },
      "source": [
        "# Fitting XGBoost Regressor to the validation set2\r\n",
        "Algorithm.append('XGB Regressor')\r\n",
        "clf = xgb.XGBRegressor()\r\n",
        "clf.fit(x_train, y_train)\r\n",
        "\r\n",
        "# Predicting the Test Set Results\r\n",
        "predicted = clf.predict(X_valid2)"
      ],
      "execution_count": 207,
      "outputs": [
        {
          "output_type": "stream",
          "text": [
            "[06:58:20] WARNING: /workspace/src/objective/regression_obj.cu:152: reg:linear is now deprecated in favor of reg:squarederror.\n"
          ],
          "name": "stdout"
        }
      ]
    },
    {
      "cell_type": "code",
      "metadata": {
        "id": "f-fPTmDg2eic"
      },
      "source": [
        "# Appending the Scores For Visualisation at a Later Part\r\n",
        "MSE_Score.append(mean_squared_error(y_valid2, predicted))\r\n",
        "R2_Score.append(r2_score(y_valid2, predicted))"
      ],
      "execution_count": 208,
      "outputs": []
    },
    {
      "cell_type": "code",
      "metadata": {
        "id": "fbQAX47cMjPj"
      },
      "source": [
        "# Just Combining the Lists into a DataFrame for a Better Visualisation\r\n",
        "Comparison = pd.DataFrame(list(zip(Algorithm, MSE_Score, R2_Score)), columns = ['Algorithm', 'MSE_Score', 'R2_Score'])"
      ],
      "execution_count": 209,
      "outputs": []
    },
    {
      "cell_type": "code",
      "metadata": {
        "colab": {
          "base_uri": "https://localhost:8080/",
          "height": 314
        },
        "id": "I4LgOq6bMkh-",
        "outputId": "23b30c0c-a410-49b7-c2f8-5811dcff4453"
      },
      "source": [
        "# Score Card\r\n",
        "Comparison"
      ],
      "execution_count": 210,
      "outputs": [
        {
          "output_type": "execute_result",
          "data": {
            "text/html": [
              "<div>\n",
              "<style scoped>\n",
              "    .dataframe tbody tr th:only-of-type {\n",
              "        vertical-align: middle;\n",
              "    }\n",
              "\n",
              "    .dataframe tbody tr th {\n",
              "        vertical-align: top;\n",
              "    }\n",
              "\n",
              "    .dataframe thead th {\n",
              "        text-align: right;\n",
              "    }\n",
              "</style>\n",
              "<table border=\"1\" class=\"dataframe\">\n",
              "  <thead>\n",
              "    <tr style=\"text-align: right;\">\n",
              "      <th></th>\n",
              "      <th>Algorithm</th>\n",
              "      <th>MSE_Score</th>\n",
              "      <th>R2_Score</th>\n",
              "    </tr>\n",
              "  </thead>\n",
              "  <tbody>\n",
              "    <tr>\n",
              "      <th>0</th>\n",
              "      <td>Random Forest Regressor</td>\n",
              "      <td>1.766410e-01</td>\n",
              "      <td>0.999978</td>\n",
              "    </tr>\n",
              "    <tr>\n",
              "      <th>1</th>\n",
              "      <td>Random Forest Regressor</td>\n",
              "      <td>1.960155e+03</td>\n",
              "      <td>0.715431</td>\n",
              "    </tr>\n",
              "    <tr>\n",
              "      <th>2</th>\n",
              "      <td>Random Forest Regressor</td>\n",
              "      <td>1.558572e+04</td>\n",
              "      <td>-0.800691</td>\n",
              "    </tr>\n",
              "    <tr>\n",
              "      <th>3</th>\n",
              "      <td>Linear Regression</td>\n",
              "      <td>6.780987e-23</td>\n",
              "      <td>1.000000</td>\n",
              "    </tr>\n",
              "    <tr>\n",
              "      <th>4</th>\n",
              "      <td>Linear Regression</td>\n",
              "      <td>6.780960e-23</td>\n",
              "      <td>1.000000</td>\n",
              "    </tr>\n",
              "    <tr>\n",
              "      <th>5</th>\n",
              "      <td>Linear Regression</td>\n",
              "      <td>6.782144e-23</td>\n",
              "      <td>1.000000</td>\n",
              "    </tr>\n",
              "    <tr>\n",
              "      <th>6</th>\n",
              "      <td>XGB Regressor</td>\n",
              "      <td>2.449387e+01</td>\n",
              "      <td>0.996908</td>\n",
              "    </tr>\n",
              "    <tr>\n",
              "      <th>7</th>\n",
              "      <td>XGB Regressor</td>\n",
              "      <td>1.646220e+03</td>\n",
              "      <td>0.761007</td>\n",
              "    </tr>\n",
              "    <tr>\n",
              "      <th>8</th>\n",
              "      <td>XGB Regressor</td>\n",
              "      <td>1.256219e+04</td>\n",
              "      <td>-0.451369</td>\n",
              "    </tr>\n",
              "  </tbody>\n",
              "</table>\n",
              "</div>"
            ],
            "text/plain": [
              "                 Algorithm     MSE_Score  R2_Score\n",
              "0  Random Forest Regressor  1.766410e-01  0.999978\n",
              "1  Random Forest Regressor  1.960155e+03  0.715431\n",
              "2  Random Forest Regressor  1.558572e+04 -0.800691\n",
              "3        Linear Regression  6.780987e-23  1.000000\n",
              "4        Linear Regression  6.780960e-23  1.000000\n",
              "5        Linear Regression  6.782144e-23  1.000000\n",
              "6            XGB Regressor  2.449387e+01  0.996908\n",
              "7            XGB Regressor  1.646220e+03  0.761007\n",
              "8            XGB Regressor  1.256219e+04 -0.451369"
            ]
          },
          "metadata": {
            "tags": []
          },
          "execution_count": 210
        }
      ]
    },
    {
      "cell_type": "markdown",
      "metadata": {
        "id": "CKSa3apsWtC0"
      },
      "source": [
        "Creating bucket"
      ]
    },
    {
      "cell_type": "code",
      "metadata": {
        "id": "TLXaxPU4Wv8Y"
      },
      "source": [
        "#making a list named as age_bucket\r\n",
        "age_bucket=[]\r\n",
        "for row in data['delay']:\r\n",
        "        if row <= 15: age_bucket.append('0-15')\r\n",
        "        elif row<=30: age_bucket.append('16-30')\r\n",
        "        elif row <= 45: age_bucket.append('31-45')\r\n",
        "        elif row <=60:  age_bucket.append('46-60')\r\n",
        "         \r\n",
        "        else:  age_bucket.append('More than 60 days')\r\n",
        "\r\n",
        "data['age_bucket']= age_bucket        "
      ],
      "execution_count": 211,
      "outputs": []
    },
    {
      "cell_type": "code",
      "metadata": {
        "colab": {
          "base_uri": "https://localhost:8080/",
          "height": 225
        },
        "id": "hWsHvcmZZVIl",
        "outputId": "f1b50765-e35f-4878-80ae-60ed265660eb"
      },
      "source": [
        "data.head(6)"
      ],
      "execution_count": 212,
      "outputs": [
        {
          "output_type": "execute_result",
          "data": {
            "text/html": [
              "<div>\n",
              "<style scoped>\n",
              "    .dataframe tbody tr th:only-of-type {\n",
              "        vertical-align: middle;\n",
              "    }\n",
              "\n",
              "    .dataframe tbody tr th {\n",
              "        vertical-align: top;\n",
              "    }\n",
              "\n",
              "    .dataframe thead th {\n",
              "        text-align: right;\n",
              "    }\n",
              "</style>\n",
              "<table border=\"1\" class=\"dataframe\">\n",
              "  <thead>\n",
              "    <tr style=\"text-align: right;\">\n",
              "      <th></th>\n",
              "      <th>clear_date</th>\n",
              "      <th>buisness_year</th>\n",
              "      <th>doc_id</th>\n",
              "      <th>document_create_date1</th>\n",
              "      <th>due_in_date</th>\n",
              "      <th>baseline_create_date</th>\n",
              "      <th>invoice_id</th>\n",
              "      <th>isOpen</th>\n",
              "      <th>delay</th>\n",
              "      <th>age_bucket</th>\n",
              "    </tr>\n",
              "  </thead>\n",
              "  <tbody>\n",
              "    <tr>\n",
              "      <th>0</th>\n",
              "      <td>2019-04-06</td>\n",
              "      <td>2019</td>\n",
              "      <td>1929359463</td>\n",
              "      <td>2019-05-22</td>\n",
              "      <td>2019-06-06</td>\n",
              "      <td>20190522</td>\n",
              "      <td>1.929359e+09</td>\n",
              "      <td>0</td>\n",
              "      <td>-61.0</td>\n",
              "      <td>0-15</td>\n",
              "    </tr>\n",
              "    <tr>\n",
              "      <th>1</th>\n",
              "      <td>2019-08-13</td>\n",
              "      <td>2019</td>\n",
              "      <td>1929690827</td>\n",
              "      <td>2019-08-02</td>\n",
              "      <td>2019-08-17</td>\n",
              "      <td>20190802</td>\n",
              "      <td>1.929691e+09</td>\n",
              "      <td>0</td>\n",
              "      <td>-4.0</td>\n",
              "      <td>0-15</td>\n",
              "    </tr>\n",
              "    <tr>\n",
              "      <th>2</th>\n",
              "      <td>2019-12-04</td>\n",
              "      <td>2019</td>\n",
              "      <td>1929135118</td>\n",
              "      <td>2019-04-12</td>\n",
              "      <td>2019-04-08</td>\n",
              "      <td>20190316</td>\n",
              "      <td>1.929135e+09</td>\n",
              "      <td>0</td>\n",
              "      <td>240.0</td>\n",
              "      <td>More than 60 days</td>\n",
              "    </tr>\n",
              "    <tr>\n",
              "      <th>3</th>\n",
              "      <td>2019-09-05</td>\n",
              "      <td>2019</td>\n",
              "      <td>1929194057</td>\n",
              "      <td>2019-04-24</td>\n",
              "      <td>2019-05-09</td>\n",
              "      <td>20190424</td>\n",
              "      <td>1.929194e+09</td>\n",
              "      <td>0</td>\n",
              "      <td>119.0</td>\n",
              "      <td>More than 60 days</td>\n",
              "    </tr>\n",
              "    <tr>\n",
              "      <th>4</th>\n",
              "      <td>2020-01-15</td>\n",
              "      <td>2020</td>\n",
              "      <td>1930329674</td>\n",
              "      <td>2019-12-30</td>\n",
              "      <td>2020-01-14</td>\n",
              "      <td>20191230</td>\n",
              "      <td>1.930330e+09</td>\n",
              "      <td>0</td>\n",
              "      <td>1.0</td>\n",
              "      <td>0-15</td>\n",
              "    </tr>\n",
              "    <tr>\n",
              "      <th>5</th>\n",
              "      <td>2019-07-06</td>\n",
              "      <td>2019</td>\n",
              "      <td>1929076457</td>\n",
              "      <td>2019-04-03</td>\n",
              "      <td>2019-06-07</td>\n",
              "      <td>20190403</td>\n",
              "      <td>1.929076e+09</td>\n",
              "      <td>0</td>\n",
              "      <td>29.0</td>\n",
              "      <td>16-30</td>\n",
              "    </tr>\n",
              "  </tbody>\n",
              "</table>\n",
              "</div>"
            ],
            "text/plain": [
              "  clear_date  buisness_year      doc_id  ... isOpen  delay         age_bucket\n",
              "0 2019-04-06           2019  1929359463  ...      0  -61.0               0-15\n",
              "1 2019-08-13           2019  1929690827  ...      0   -4.0               0-15\n",
              "2 2019-12-04           2019  1929135118  ...      0  240.0  More than 60 days\n",
              "3 2019-09-05           2019  1929194057  ...      0  119.0  More than 60 days\n",
              "4 2020-01-15           2020  1930329674  ...      0    1.0               0-15\n",
              "5 2019-07-06           2019  1929076457  ...      0   29.0              16-30\n",
              "\n",
              "[6 rows x 10 columns]"
            ]
          },
          "metadata": {
            "tags": []
          },
          "execution_count": 212
        }
      ]
    }
  ]
}